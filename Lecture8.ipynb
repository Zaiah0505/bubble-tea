{
 "cells": [
  {
   "cell_type": "markdown",
   "metadata": {},
   "source": [
    "# Lecture 8: From Data to Facts\n",
    "\n",
    "## Contents\n",
    "- [Imports](#section1)\n",
    "- [Operations of Pandas](#section2)\n",
    "    - [Vectorized string operations](#subsection2.1)\n",
    "    - [Data type change via the <code>astype()</code> method ](#subsection2.2)\n",
    "    - [Handling missing data](#subsection2.3)\n",
    "- [Insights from data visualization](#section3)\n",
    "- [Introduction to Inferential Statistics](#section4)\n",
    "    - [Review of probability theory](#subsection4.1)\n",
    "    - [Samples and populations](#subsection4.2)\n",
    "    - [Sampling distributions](#subsection4.3)\n",
    "    - [Central limit theorem](#subsection4.4)\n",
    "\n",
    "\n",
    "## Imports <a id=\"section1\"></a>\n",
    "Besides the usual Python packages we used before, this document requires an extra package [<code>ipywidets</code>](https://ipywidgets.readthedocs.io/en/latest/) to create interactive widgets. Detailed steps of installing the package is given [here](https://ipywidgets.readthedocs.io/en/latest/user_install.html), where you may first try \"with conda\". It is recommended to disable \"Toggle scrolling\" by \"Cell->Current Output->Toggle Scrolling\" for a better looking. "
   ]
  },
  {
   "cell_type": "code",
   "execution_count": 4,
   "metadata": {},
   "outputs": [],
   "source": [
    "import matplotlib.pyplot as plt\n",
    "import pandas as pd\n",
    "import numpy as np\n",
    "from scipy.stats import binom       # Import objects for the binomial distribution\n",
    "from scipy.stats import norm        # Import objects for the normal distribution "
   ]
  },
  {
   "cell_type": "markdown",
   "metadata": {},
   "source": [
    "The following code cell is used to import functions for visualizing the concepts of probability theory and statistics. Please place the file \"visual_distr\" in the same folder as your lecture notes file, otherwise you may not be able to run the importing commands below. "
   ]
  },
  {
   "cell_type": "code",
   "execution_count": 3,
   "metadata": {},
   "outputs": [],
   "source": [
    "from visual_distr import plot_normal\n",
    "from visual_distr import plot_sdistr"
   ]
  },
  {
   "cell_type": "markdown",
   "metadata": {},
   "source": [
    "There is no need to look into the source code and understand how these functions work. You may simply use them with the 'leap of faith'. "
   ]
  },
  {
   "cell_type": "markdown",
   "metadata": {},
   "source": [
    " "
   ]
  },
  {
   "cell_type": "markdown",
   "metadata": {},
   "source": [
    "## Operations of Pandas <a id=\"section2\"></a>\n",
    "\n",
    "### Vectorized string operations <a id=\"subsection2.1\"></a>\n",
    "\n",
    "In previous lectures, we learned quite a few string operations, such as case conversions, indexing and slicing, as well as how to find a given character in a string. In a Pandas data frame, can we apply these operations to a whole column (series) of strings? The answer is yes and it can be easily done by the `str` attribute of a series of strings.\n",
    "\n",
    "Take the Singapore condo data for example, what if we want to change all condo project names from upper cases to lower cases?"
   ]
  },
  {
   "cell_type": "code",
   "execution_count": 51,
   "metadata": {
    "scrolled": false
   },
   "outputs": [
    {
     "data": {
      "text/html": [
       "<div>\n",
       "<style scoped>\n",
       "    .dataframe tbody tr th:only-of-type {\n",
       "        vertical-align: middle;\n",
       "    }\n",
       "\n",
       "    .dataframe tbody tr th {\n",
       "        vertical-align: top;\n",
       "    }\n",
       "\n",
       "    .dataframe thead th {\n",
       "        text-align: right;\n",
       "    }\n",
       "</style>\n",
       "<table border=\"1\" class=\"dataframe\">\n",
       "  <thead>\n",
       "    <tr style=\"text-align: right;\">\n",
       "      <th></th>\n",
       "      <th>name</th>\n",
       "      <th>price</th>\n",
       "      <th>unit_price</th>\n",
       "      <th>district_code</th>\n",
       "      <th>...</th>\n",
       "      <th>area</th>\n",
       "      <th>level</th>\n",
       "      <th>remaining_years</th>\n",
       "      <th>date</th>\n",
       "    </tr>\n",
       "  </thead>\n",
       "  <tbody>\n",
       "    <tr>\n",
       "      <th>0</th>\n",
       "      <td>SEASCAPE</td>\n",
       "      <td>4388000</td>\n",
       "      <td>2028</td>\n",
       "      <td>4</td>\n",
       "      <td>...</td>\n",
       "      <td>2164</td>\n",
       "      <td>06 to 10</td>\n",
       "      <td>87.0</td>\n",
       "      <td>Nov-19</td>\n",
       "    </tr>\n",
       "    <tr>\n",
       "      <th>1</th>\n",
       "      <td>COMMONWEALTH TOWERS</td>\n",
       "      <td>1300000</td>\n",
       "      <td>1887</td>\n",
       "      <td>3</td>\n",
       "      <td>...</td>\n",
       "      <td>689</td>\n",
       "      <td>16 to 20</td>\n",
       "      <td>93.0</td>\n",
       "      <td>Nov-19</td>\n",
       "    </tr>\n",
       "    <tr>\n",
       "      <th>2</th>\n",
       "      <td>THE TRILINQ</td>\n",
       "      <td>1755000</td>\n",
       "      <td>1304</td>\n",
       "      <td>5</td>\n",
       "      <td>...</td>\n",
       "      <td>1346</td>\n",
       "      <td>06 to 10</td>\n",
       "      <td>92.0</td>\n",
       "      <td>Nov-19</td>\n",
       "    </tr>\n",
       "    <tr>\n",
       "      <th>3</th>\n",
       "      <td>THE CREST</td>\n",
       "      <td>2085000</td>\n",
       "      <td>2201</td>\n",
       "      <td>3</td>\n",
       "      <td>...</td>\n",
       "      <td>947</td>\n",
       "      <td>01 to 05</td>\n",
       "      <td>92.0</td>\n",
       "      <td>Nov-19</td>\n",
       "    </tr>\n",
       "    <tr>\n",
       "      <th>4</th>\n",
       "      <td>THE ANCHORAGE</td>\n",
       "      <td>1848888</td>\n",
       "      <td>1468</td>\n",
       "      <td>3</td>\n",
       "      <td>...</td>\n",
       "      <td>1259</td>\n",
       "      <td>01 to 05</td>\n",
       "      <td>999.0</td>\n",
       "      <td>Nov-19</td>\n",
       "    </tr>\n",
       "  </tbody>\n",
       "</table>\n",
       "<p>5 rows × 10 columns</p>\n",
       "</div>"
      ],
      "text/plain": [
       "                  name    price  unit_price  district_code  ...  area  \\\n",
       "0             SEASCAPE  4388000        2028              4  ...  2164   \n",
       "1  COMMONWEALTH TOWERS  1300000        1887              3  ...   689   \n",
       "2          THE TRILINQ  1755000        1304              5  ...  1346   \n",
       "3            THE CREST  2085000        2201              3  ...   947   \n",
       "4        THE ANCHORAGE  1848888        1468              3  ...  1259   \n",
       "\n",
       "      level  remaining_years    date  \n",
       "0  06 to 10             87.0  Nov-19  \n",
       "1  16 to 20             93.0  Nov-19  \n",
       "2  06 to 10             92.0  Nov-19  \n",
       "3  01 to 05             92.0  Nov-19  \n",
       "4  01 to 05            999.0  Nov-19  \n",
       "\n",
       "[5 rows x 10 columns]"
      ]
     },
     "execution_count": 51,
     "metadata": {},
     "output_type": "execute_result"
    }
   ],
   "source": [
    "data_condo = pd.read_csv('condo.csv')\n",
    "data_condo.head()"
   ]
  },
  {
   "cell_type": "code",
   "execution_count": 4,
   "metadata": {},
   "outputs": [
    {
     "data": {
      "text/plain": [
       "0                    SEASCAPE\n",
       "1         COMMONWEALTH TOWERS\n",
       "2                 THE TRILINQ\n",
       "3                   THE CREST\n",
       "4               THE ANCHORAGE\n",
       "                 ...         \n",
       "32163          SKIES MILTONIA\n",
       "32164         SYMPHONY SUITES\n",
       "32165               SELETARIS\n",
       "32166    RIVERBANK @ FERNVALE\n",
       "32167             THE ESTUARY\n",
       "Name: name, Length: 32168, dtype: object"
      ]
     },
     "execution_count": 4,
     "metadata": {},
     "output_type": "execute_result"
    }
   ],
   "source": [
    "data_condo['name']"
   ]
  },
  {
   "cell_type": "code",
   "execution_count": 5,
   "metadata": {
    "scrolled": false
   },
   "outputs": [
    {
     "data": {
      "text/plain": [
       "0                    seascape\n",
       "1         commonwealth towers\n",
       "2                 the trilinq\n",
       "3                   the crest\n",
       "4               the anchorage\n",
       "                 ...         \n",
       "32163          skies miltonia\n",
       "32164         symphony suites\n",
       "32165               seletaris\n",
       "32166    riverbank @ fernvale\n",
       "32167             the estuary\n",
       "Name: name, Length: 32168, dtype: object"
      ]
     },
     "execution_count": 5,
     "metadata": {},
     "output_type": "execute_result"
    }
   ],
   "source": [
    "data_condo['name'].str.lower()"
   ]
  },
  {
   "cell_type": "markdown",
   "metadata": {},
   "source": [
    "It can be seen that by using the attribute `str`, we can apply the vectorized `lower()` operations to all strings in the series `data_condo['name']`. Other operations can also be vectorized similarly by the `str` attribute, as demonstrated by the following example. \n",
    "\n",
    "<div class=\"alert alert-block alert-success\">\n",
    "<b>Example 1:</b> Create subsets of the dataset 'condo.csv' with the project names respectively satisfy 1) has the length longer than 20 characters; 2) has at least three words; 3) contains the letter \"D\" (or \"d\"); and 4) starts with the letter \"D\". \n",
    "</div>\n"
   ]
  },
  {
   "cell_type": "code",
   "execution_count": 6,
   "metadata": {},
   "outputs": [],
   "source": [
    "p_names = data_condo['name']"
   ]
  },
  {
   "cell_type": "code",
   "execution_count": 7,
   "metadata": {
    "scrolled": false
   },
   "outputs": [
    {
     "data": {
      "text/plain": [
       "0        False\n",
       "1        False\n",
       "2        False\n",
       "3        False\n",
       "4        False\n",
       "         ...  \n",
       "32163    False\n",
       "32164    False\n",
       "32165    False\n",
       "32166    False\n",
       "32167    False\n",
       "Name: name, Length: 32168, dtype: bool"
      ]
     },
     "execution_count": 7,
     "metadata": {},
     "output_type": "execute_result"
    }
   ],
   "source": [
    "is_long = p_names.str.len() > 20        # Vectorized len function\n",
    "is_long"
   ]
  },
  {
   "cell_type": "code",
   "execution_count": 8,
   "metadata": {
    "scrolled": false
   },
   "outputs": [
    {
     "data": {
      "text/html": [
       "<div>\n",
       "<style scoped>\n",
       "    .dataframe tbody tr th:only-of-type {\n",
       "        vertical-align: middle;\n",
       "    }\n",
       "\n",
       "    .dataframe tbody tr th {\n",
       "        vertical-align: top;\n",
       "    }\n",
       "\n",
       "    .dataframe thead th {\n",
       "        text-align: right;\n",
       "    }\n",
       "</style>\n",
       "<table border=\"1\" class=\"dataframe\">\n",
       "  <thead>\n",
       "    <tr style=\"text-align: right;\">\n",
       "      <th></th>\n",
       "      <th>name</th>\n",
       "      <th>price</th>\n",
       "      <th>unit_price</th>\n",
       "      <th>district_code</th>\n",
       "      <th>segment</th>\n",
       "      <th>type</th>\n",
       "      <th>area</th>\n",
       "      <th>level</th>\n",
       "      <th>remaining_years</th>\n",
       "      <th>date</th>\n",
       "    </tr>\n",
       "  </thead>\n",
       "  <tbody>\n",
       "    <tr>\n",
       "      <th>8</th>\n",
       "      <td>CARIBBEAN AT KEPPEL BAY</td>\n",
       "      <td>1470000</td>\n",
       "      <td>1751</td>\n",
       "      <td>4</td>\n",
       "      <td>RCR</td>\n",
       "      <td>Resale</td>\n",
       "      <td>840</td>\n",
       "      <td>06 to 10</td>\n",
       "      <td>79.0</td>\n",
       "      <td>Oct-19</td>\n",
       "    </tr>\n",
       "    <tr>\n",
       "      <th>11</th>\n",
       "      <td>REFLECTIONS AT KEPPEL BAY</td>\n",
       "      <td>2130000</td>\n",
       "      <td>1310</td>\n",
       "      <td>4</td>\n",
       "      <td>RCR</td>\n",
       "      <td>Resale</td>\n",
       "      <td>1625</td>\n",
       "      <td>01 to 05</td>\n",
       "      <td>86.0</td>\n",
       "      <td>Oct-19</td>\n",
       "    </tr>\n",
       "    <tr>\n",
       "      <th>12</th>\n",
       "      <td>REFLECTIONS AT KEPPEL BAY</td>\n",
       "      <td>2056000</td>\n",
       "      <td>1661</td>\n",
       "      <td>4</td>\n",
       "      <td>RCR</td>\n",
       "      <td>Resale</td>\n",
       "      <td>1238</td>\n",
       "      <td>06 to 10</td>\n",
       "      <td>86.0</td>\n",
       "      <td>Oct-19</td>\n",
       "    </tr>\n",
       "    <tr>\n",
       "      <th>16</th>\n",
       "      <td>CARIBBEAN AT KEPPEL BAY</td>\n",
       "      <td>1320000</td>\n",
       "      <td>1572</td>\n",
       "      <td>4</td>\n",
       "      <td>RCR</td>\n",
       "      <td>Resale</td>\n",
       "      <td>840</td>\n",
       "      <td>01 to 05</td>\n",
       "      <td>79.0</td>\n",
       "      <td>Oct-19</td>\n",
       "    </tr>\n",
       "    <tr>\n",
       "      <th>27</th>\n",
       "      <td>GOLD COAST CONDOMINIUM</td>\n",
       "      <td>2025000</td>\n",
       "      <td>1107</td>\n",
       "      <td>5</td>\n",
       "      <td>RCR</td>\n",
       "      <td>Resale</td>\n",
       "      <td>1830</td>\n",
       "      <td>01 to 05</td>\n",
       "      <td>999.0</td>\n",
       "      <td>Oct-19</td>\n",
       "    </tr>\n",
       "    <tr>\n",
       "      <th>...</th>\n",
       "      <td>...</td>\n",
       "      <td>...</td>\n",
       "      <td>...</td>\n",
       "      <td>...</td>\n",
       "      <td>...</td>\n",
       "      <td>...</td>\n",
       "      <td>...</td>\n",
       "      <td>...</td>\n",
       "      <td>...</td>\n",
       "      <td>...</td>\n",
       "    </tr>\n",
       "    <tr>\n",
       "      <th>32143</th>\n",
       "      <td>ORCHID PARK CONDOMINIUM</td>\n",
       "      <td>700000</td>\n",
       "      <td>731</td>\n",
       "      <td>27</td>\n",
       "      <td>OCR</td>\n",
       "      <td>Resale</td>\n",
       "      <td>958</td>\n",
       "      <td>01 to 05</td>\n",
       "      <td>74.0</td>\n",
       "      <td>Nov-16</td>\n",
       "    </tr>\n",
       "    <tr>\n",
       "      <th>32146</th>\n",
       "      <td>ORCHID PARK CONDOMINIUM</td>\n",
       "      <td>705000</td>\n",
       "      <td>720</td>\n",
       "      <td>27</td>\n",
       "      <td>OCR</td>\n",
       "      <td>Resale</td>\n",
       "      <td>980</td>\n",
       "      <td>06 to 10</td>\n",
       "      <td>74.0</td>\n",
       "      <td>Nov-16</td>\n",
       "    </tr>\n",
       "    <tr>\n",
       "      <th>32149</th>\n",
       "      <td>SELETAR PARK RESIDENCE</td>\n",
       "      <td>1050000</td>\n",
       "      <td>1251</td>\n",
       "      <td>28</td>\n",
       "      <td>OCR</td>\n",
       "      <td>Resale</td>\n",
       "      <td>840</td>\n",
       "      <td>01 to 05</td>\n",
       "      <td>94.0</td>\n",
       "      <td>Nov-16</td>\n",
       "    </tr>\n",
       "    <tr>\n",
       "      <th>32155</th>\n",
       "      <td>SELETAR SPRINGS CONDOMINIUM</td>\n",
       "      <td>1300000</td>\n",
       "      <td>629</td>\n",
       "      <td>28</td>\n",
       "      <td>OCR</td>\n",
       "      <td>Resale</td>\n",
       "      <td>2067</td>\n",
       "      <td>01 to 05</td>\n",
       "      <td>80.0</td>\n",
       "      <td>Nov-16</td>\n",
       "    </tr>\n",
       "    <tr>\n",
       "      <th>32160</th>\n",
       "      <td>THE MILTONIA RESIDENCES</td>\n",
       "      <td>1630000</td>\n",
       "      <td>785</td>\n",
       "      <td>27</td>\n",
       "      <td>OCR</td>\n",
       "      <td>Resale</td>\n",
       "      <td>2077</td>\n",
       "      <td>01 to 05</td>\n",
       "      <td>93.0</td>\n",
       "      <td>Nov-16</td>\n",
       "    </tr>\n",
       "  </tbody>\n",
       "</table>\n",
       "<p>3344 rows × 10 columns</p>\n",
       "</div>"
      ],
      "text/plain": [
       "                              name    price  unit_price  district_code  \\\n",
       "8          CARIBBEAN AT KEPPEL BAY  1470000        1751              4   \n",
       "11       REFLECTIONS AT KEPPEL BAY  2130000        1310              4   \n",
       "12       REFLECTIONS AT KEPPEL BAY  2056000        1661              4   \n",
       "16         CARIBBEAN AT KEPPEL BAY  1320000        1572              4   \n",
       "27          GOLD COAST CONDOMINIUM  2025000        1107              5   \n",
       "...                            ...      ...         ...            ...   \n",
       "32143      ORCHID PARK CONDOMINIUM   700000         731             27   \n",
       "32146      ORCHID PARK CONDOMINIUM   705000         720             27   \n",
       "32149       SELETAR PARK RESIDENCE  1050000        1251             28   \n",
       "32155  SELETAR SPRINGS CONDOMINIUM  1300000         629             28   \n",
       "32160      THE MILTONIA RESIDENCES  1630000         785             27   \n",
       "\n",
       "      segment    type  area     level  remaining_years    date  \n",
       "8         RCR  Resale   840  06 to 10             79.0  Oct-19  \n",
       "11        RCR  Resale  1625  01 to 05             86.0  Oct-19  \n",
       "12        RCR  Resale  1238  06 to 10             86.0  Oct-19  \n",
       "16        RCR  Resale   840  01 to 05             79.0  Oct-19  \n",
       "27        RCR  Resale  1830  01 to 05            999.0  Oct-19  \n",
       "...       ...     ...   ...       ...              ...     ...  \n",
       "32143     OCR  Resale   958  01 to 05             74.0  Nov-16  \n",
       "32146     OCR  Resale   980  06 to 10             74.0  Nov-16  \n",
       "32149     OCR  Resale   840  01 to 05             94.0  Nov-16  \n",
       "32155     OCR  Resale  2067  01 to 05             80.0  Nov-16  \n",
       "32160     OCR  Resale  2077  01 to 05             93.0  Nov-16  \n",
       "\n",
       "[3344 rows x 10 columns]"
      ]
     },
     "execution_count": 8,
     "metadata": {},
     "output_type": "execute_result"
    }
   ],
   "source": [
    "data_condo.loc[is_long]"
   ]
  },
  {
   "cell_type": "code",
   "execution_count": 9,
   "metadata": {
    "scrolled": true
   },
   "outputs": [
    {
     "data": {
      "text/plain": [
       "0        1\n",
       "1        2\n",
       "2        2\n",
       "3        2\n",
       "4        2\n",
       "        ..\n",
       "32163    2\n",
       "32164    2\n",
       "32165    1\n",
       "32166    3\n",
       "32167    2\n",
       "Name: name, Length: 32168, dtype: int64"
      ]
     },
     "execution_count": 9,
     "metadata": {},
     "output_type": "execute_result"
    }
   ],
   "source": [
    "num_spaces = p_names.str.count(' ')     # No. of whitespaces in the string\n",
    "num_words = num_spaces + 1              # No. of words\n",
    "num_words"
   ]
  },
  {
   "cell_type": "code",
   "execution_count": 10,
   "metadata": {
    "scrolled": false
   },
   "outputs": [
    {
     "data": {
      "text/html": [
       "<div>\n",
       "<style scoped>\n",
       "    .dataframe tbody tr th:only-of-type {\n",
       "        vertical-align: middle;\n",
       "    }\n",
       "\n",
       "    .dataframe tbody tr th {\n",
       "        vertical-align: top;\n",
       "    }\n",
       "\n",
       "    .dataframe thead th {\n",
       "        text-align: right;\n",
       "    }\n",
       "</style>\n",
       "<table border=\"1\" class=\"dataframe\">\n",
       "  <thead>\n",
       "    <tr style=\"text-align: right;\">\n",
       "      <th></th>\n",
       "      <th>name</th>\n",
       "      <th>price</th>\n",
       "      <th>unit_price</th>\n",
       "      <th>district_code</th>\n",
       "      <th>segment</th>\n",
       "      <th>type</th>\n",
       "      <th>area</th>\n",
       "      <th>level</th>\n",
       "      <th>remaining_years</th>\n",
       "      <th>date</th>\n",
       "    </tr>\n",
       "  </thead>\n",
       "  <tbody>\n",
       "    <tr>\n",
       "      <th>5</th>\n",
       "      <td>MOUNT FABER LODGE</td>\n",
       "      <td>4400000</td>\n",
       "      <td>1188</td>\n",
       "      <td>4</td>\n",
       "      <td>RCR</td>\n",
       "      <td>Resale</td>\n",
       "      <td>3703</td>\n",
       "      <td>06 to 10</td>\n",
       "      <td>999.0</td>\n",
       "      <td>Oct-19</td>\n",
       "    </tr>\n",
       "    <tr>\n",
       "      <th>8</th>\n",
       "      <td>CARIBBEAN AT KEPPEL BAY</td>\n",
       "      <td>1470000</td>\n",
       "      <td>1751</td>\n",
       "      <td>4</td>\n",
       "      <td>RCR</td>\n",
       "      <td>Resale</td>\n",
       "      <td>840</td>\n",
       "      <td>06 to 10</td>\n",
       "      <td>79.0</td>\n",
       "      <td>Oct-19</td>\n",
       "    </tr>\n",
       "    <tr>\n",
       "      <th>11</th>\n",
       "      <td>REFLECTIONS AT KEPPEL BAY</td>\n",
       "      <td>2130000</td>\n",
       "      <td>1310</td>\n",
       "      <td>4</td>\n",
       "      <td>RCR</td>\n",
       "      <td>Resale</td>\n",
       "      <td>1625</td>\n",
       "      <td>01 to 05</td>\n",
       "      <td>86.0</td>\n",
       "      <td>Oct-19</td>\n",
       "    </tr>\n",
       "    <tr>\n",
       "      <th>12</th>\n",
       "      <td>REFLECTIONS AT KEPPEL BAY</td>\n",
       "      <td>2056000</td>\n",
       "      <td>1661</td>\n",
       "      <td>4</td>\n",
       "      <td>RCR</td>\n",
       "      <td>Resale</td>\n",
       "      <td>1238</td>\n",
       "      <td>06 to 10</td>\n",
       "      <td>86.0</td>\n",
       "      <td>Oct-19</td>\n",
       "    </tr>\n",
       "    <tr>\n",
       "      <th>16</th>\n",
       "      <td>CARIBBEAN AT KEPPEL BAY</td>\n",
       "      <td>1320000</td>\n",
       "      <td>1572</td>\n",
       "      <td>4</td>\n",
       "      <td>RCR</td>\n",
       "      <td>Resale</td>\n",
       "      <td>840</td>\n",
       "      <td>01 to 05</td>\n",
       "      <td>79.0</td>\n",
       "      <td>Oct-19</td>\n",
       "    </tr>\n",
       "    <tr>\n",
       "      <th>...</th>\n",
       "      <td>...</td>\n",
       "      <td>...</td>\n",
       "      <td>...</td>\n",
       "      <td>...</td>\n",
       "      <td>...</td>\n",
       "      <td>...</td>\n",
       "      <td>...</td>\n",
       "      <td>...</td>\n",
       "      <td>...</td>\n",
       "      <td>...</td>\n",
       "    </tr>\n",
       "    <tr>\n",
       "      <th>32148</th>\n",
       "      <td>RIVERBANK @ FERNVALE</td>\n",
       "      <td>936000</td>\n",
       "      <td>988</td>\n",
       "      <td>28</td>\n",
       "      <td>OCR</td>\n",
       "      <td>New Sale</td>\n",
       "      <td>947</td>\n",
       "      <td>16 to 20</td>\n",
       "      <td>96.0</td>\n",
       "      <td>Nov-16</td>\n",
       "    </tr>\n",
       "    <tr>\n",
       "      <th>32149</th>\n",
       "      <td>SELETAR PARK RESIDENCE</td>\n",
       "      <td>1050000</td>\n",
       "      <td>1251</td>\n",
       "      <td>28</td>\n",
       "      <td>OCR</td>\n",
       "      <td>Resale</td>\n",
       "      <td>840</td>\n",
       "      <td>01 to 05</td>\n",
       "      <td>94.0</td>\n",
       "      <td>Nov-16</td>\n",
       "    </tr>\n",
       "    <tr>\n",
       "      <th>32155</th>\n",
       "      <td>SELETAR SPRINGS CONDOMINIUM</td>\n",
       "      <td>1300000</td>\n",
       "      <td>629</td>\n",
       "      <td>28</td>\n",
       "      <td>OCR</td>\n",
       "      <td>Resale</td>\n",
       "      <td>2067</td>\n",
       "      <td>01 to 05</td>\n",
       "      <td>80.0</td>\n",
       "      <td>Nov-16</td>\n",
       "    </tr>\n",
       "    <tr>\n",
       "      <th>32160</th>\n",
       "      <td>THE MILTONIA RESIDENCES</td>\n",
       "      <td>1630000</td>\n",
       "      <td>785</td>\n",
       "      <td>27</td>\n",
       "      <td>OCR</td>\n",
       "      <td>Resale</td>\n",
       "      <td>2077</td>\n",
       "      <td>01 to 05</td>\n",
       "      <td>93.0</td>\n",
       "      <td>Nov-16</td>\n",
       "    </tr>\n",
       "    <tr>\n",
       "      <th>32166</th>\n",
       "      <td>RIVERBANK @ FERNVALE</td>\n",
       "      <td>1082000</td>\n",
       "      <td>1026</td>\n",
       "      <td>28</td>\n",
       "      <td>OCR</td>\n",
       "      <td>New Sale</td>\n",
       "      <td>1055</td>\n",
       "      <td>16 to 20</td>\n",
       "      <td>96.0</td>\n",
       "      <td>Nov-16</td>\n",
       "    </tr>\n",
       "  </tbody>\n",
       "</table>\n",
       "<p>7649 rows × 10 columns</p>\n",
       "</div>"
      ],
      "text/plain": [
       "                              name    price  unit_price  district_code  \\\n",
       "5                MOUNT FABER LODGE  4400000        1188              4   \n",
       "8          CARIBBEAN AT KEPPEL BAY  1470000        1751              4   \n",
       "11       REFLECTIONS AT KEPPEL BAY  2130000        1310              4   \n",
       "12       REFLECTIONS AT KEPPEL BAY  2056000        1661              4   \n",
       "16         CARIBBEAN AT KEPPEL BAY  1320000        1572              4   \n",
       "...                            ...      ...         ...            ...   \n",
       "32148         RIVERBANK @ FERNVALE   936000         988             28   \n",
       "32149       SELETAR PARK RESIDENCE  1050000        1251             28   \n",
       "32155  SELETAR SPRINGS CONDOMINIUM  1300000         629             28   \n",
       "32160      THE MILTONIA RESIDENCES  1630000         785             27   \n",
       "32166         RIVERBANK @ FERNVALE  1082000        1026             28   \n",
       "\n",
       "      segment      type  area     level  remaining_years    date  \n",
       "5         RCR    Resale  3703  06 to 10            999.0  Oct-19  \n",
       "8         RCR    Resale   840  06 to 10             79.0  Oct-19  \n",
       "11        RCR    Resale  1625  01 to 05             86.0  Oct-19  \n",
       "12        RCR    Resale  1238  06 to 10             86.0  Oct-19  \n",
       "16        RCR    Resale   840  01 to 05             79.0  Oct-19  \n",
       "...       ...       ...   ...       ...              ...     ...  \n",
       "32148     OCR  New Sale   947  16 to 20             96.0  Nov-16  \n",
       "32149     OCR    Resale   840  01 to 05             94.0  Nov-16  \n",
       "32155     OCR    Resale  2067  01 to 05             80.0  Nov-16  \n",
       "32160     OCR    Resale  2077  01 to 05             93.0  Nov-16  \n",
       "32166     OCR  New Sale  1055  16 to 20             96.0  Nov-16  \n",
       "\n",
       "[7649 rows x 10 columns]"
      ]
     },
     "execution_count": 10,
     "metadata": {},
     "output_type": "execute_result"
    }
   ],
   "source": [
    "data_condo.loc[num_words >= 3]"
   ]
  },
  {
   "cell_type": "code",
   "execution_count": 11,
   "metadata": {
    "scrolled": false
   },
   "outputs": [
    {
     "data": {
      "text/html": [
       "<div>\n",
       "<style scoped>\n",
       "    .dataframe tbody tr th:only-of-type {\n",
       "        vertical-align: middle;\n",
       "    }\n",
       "\n",
       "    .dataframe tbody tr th {\n",
       "        vertical-align: top;\n",
       "    }\n",
       "\n",
       "    .dataframe thead th {\n",
       "        text-align: right;\n",
       "    }\n",
       "</style>\n",
       "<table border=\"1\" class=\"dataframe\">\n",
       "  <thead>\n",
       "    <tr style=\"text-align: right;\">\n",
       "      <th></th>\n",
       "      <th>name</th>\n",
       "      <th>price</th>\n",
       "      <th>unit_price</th>\n",
       "      <th>district_code</th>\n",
       "      <th>segment</th>\n",
       "      <th>type</th>\n",
       "      <th>area</th>\n",
       "      <th>level</th>\n",
       "      <th>remaining_years</th>\n",
       "      <th>date</th>\n",
       "    </tr>\n",
       "  </thead>\n",
       "  <tbody>\n",
       "    <tr>\n",
       "      <th>5</th>\n",
       "      <td>MOUNT FABER LODGE</td>\n",
       "      <td>4400000</td>\n",
       "      <td>1188</td>\n",
       "      <td>4</td>\n",
       "      <td>RCR</td>\n",
       "      <td>Resale</td>\n",
       "      <td>3703</td>\n",
       "      <td>06 to 10</td>\n",
       "      <td>999.0</td>\n",
       "      <td>Oct-19</td>\n",
       "    </tr>\n",
       "    <tr>\n",
       "      <th>7</th>\n",
       "      <td>DOVER PARKVIEW</td>\n",
       "      <td>1088000</td>\n",
       "      <td>1162</td>\n",
       "      <td>5</td>\n",
       "      <td>RCR</td>\n",
       "      <td>Resale</td>\n",
       "      <td>936</td>\n",
       "      <td>06 to 10</td>\n",
       "      <td>73.0</td>\n",
       "      <td>Oct-19</td>\n",
       "    </tr>\n",
       "    <tr>\n",
       "      <th>10</th>\n",
       "      <td>WESTCOVE CONDOMINIUM</td>\n",
       "      <td>970000</td>\n",
       "      <td>834</td>\n",
       "      <td>5</td>\n",
       "      <td>OCR</td>\n",
       "      <td>Resale</td>\n",
       "      <td>1163</td>\n",
       "      <td>01 to 05</td>\n",
       "      <td>75.0</td>\n",
       "      <td>Oct-19</td>\n",
       "    </tr>\n",
       "    <tr>\n",
       "      <th>19</th>\n",
       "      <td>VILLA DE WEST</td>\n",
       "      <td>1750000</td>\n",
       "      <td>1145</td>\n",
       "      <td>5</td>\n",
       "      <td>RCR</td>\n",
       "      <td>Resale</td>\n",
       "      <td>1528</td>\n",
       "      <td>01 to 05</td>\n",
       "      <td>999.0</td>\n",
       "      <td>Oct-19</td>\n",
       "    </tr>\n",
       "    <tr>\n",
       "      <th>20</th>\n",
       "      <td>DOMAIN 21</td>\n",
       "      <td>1493000</td>\n",
       "      <td>1613</td>\n",
       "      <td>3</td>\n",
       "      <td>RCR</td>\n",
       "      <td>Resale</td>\n",
       "      <td>926</td>\n",
       "      <td>16 to 20</td>\n",
       "      <td>84.0</td>\n",
       "      <td>Oct-19</td>\n",
       "    </tr>\n",
       "    <tr>\n",
       "      <th>...</th>\n",
       "      <td>...</td>\n",
       "      <td>...</td>\n",
       "      <td>...</td>\n",
       "      <td>...</td>\n",
       "      <td>...</td>\n",
       "      <td>...</td>\n",
       "      <td>...</td>\n",
       "      <td>...</td>\n",
       "      <td>...</td>\n",
       "      <td>...</td>\n",
       "    </tr>\n",
       "    <tr>\n",
       "      <th>32155</th>\n",
       "      <td>SELETAR SPRINGS CONDOMINIUM</td>\n",
       "      <td>1300000</td>\n",
       "      <td>629</td>\n",
       "      <td>28</td>\n",
       "      <td>OCR</td>\n",
       "      <td>Resale</td>\n",
       "      <td>2067</td>\n",
       "      <td>01 to 05</td>\n",
       "      <td>80.0</td>\n",
       "      <td>Nov-16</td>\n",
       "    </tr>\n",
       "    <tr>\n",
       "      <th>32156</th>\n",
       "      <td>NIM GARDENS</td>\n",
       "      <td>1680000</td>\n",
       "      <td>758</td>\n",
       "      <td>28</td>\n",
       "      <td>OCR</td>\n",
       "      <td>Resale</td>\n",
       "      <td>2217</td>\n",
       "      <td>01 to 05</td>\n",
       "      <td>999.0</td>\n",
       "      <td>Nov-16</td>\n",
       "    </tr>\n",
       "    <tr>\n",
       "      <th>32158</th>\n",
       "      <td>H2O RESIDENCES</td>\n",
       "      <td>870000</td>\n",
       "      <td>1023</td>\n",
       "      <td>28</td>\n",
       "      <td>OCR</td>\n",
       "      <td>Resale</td>\n",
       "      <td>850</td>\n",
       "      <td>16 to 20</td>\n",
       "      <td>93.0</td>\n",
       "      <td>Nov-16</td>\n",
       "    </tr>\n",
       "    <tr>\n",
       "      <th>32159</th>\n",
       "      <td>CANBERRA RESIDENCES</td>\n",
       "      <td>1150000</td>\n",
       "      <td>876</td>\n",
       "      <td>27</td>\n",
       "      <td>OCR</td>\n",
       "      <td>Resale</td>\n",
       "      <td>1313</td>\n",
       "      <td>01 to 05</td>\n",
       "      <td>93.0</td>\n",
       "      <td>Nov-16</td>\n",
       "    </tr>\n",
       "    <tr>\n",
       "      <th>32160</th>\n",
       "      <td>THE MILTONIA RESIDENCES</td>\n",
       "      <td>1630000</td>\n",
       "      <td>785</td>\n",
       "      <td>27</td>\n",
       "      <td>OCR</td>\n",
       "      <td>Resale</td>\n",
       "      <td>2077</td>\n",
       "      <td>01 to 05</td>\n",
       "      <td>93.0</td>\n",
       "      <td>Nov-16</td>\n",
       "    </tr>\n",
       "  </tbody>\n",
       "</table>\n",
       "<p>11493 rows × 10 columns</p>\n",
       "</div>"
      ],
      "text/plain": [
       "                              name    price  unit_price  district_code  \\\n",
       "5                MOUNT FABER LODGE  4400000        1188              4   \n",
       "7                   DOVER PARKVIEW  1088000        1162              5   \n",
       "10            WESTCOVE CONDOMINIUM   970000         834              5   \n",
       "19                   VILLA DE WEST  1750000        1145              5   \n",
       "20                       DOMAIN 21  1493000        1613              3   \n",
       "...                            ...      ...         ...            ...   \n",
       "32155  SELETAR SPRINGS CONDOMINIUM  1300000         629             28   \n",
       "32156                  NIM GARDENS  1680000         758             28   \n",
       "32158               H2O RESIDENCES   870000        1023             28   \n",
       "32159          CANBERRA RESIDENCES  1150000         876             27   \n",
       "32160      THE MILTONIA RESIDENCES  1630000         785             27   \n",
       "\n",
       "      segment    type  area     level  remaining_years    date  \n",
       "5         RCR  Resale  3703  06 to 10            999.0  Oct-19  \n",
       "7         RCR  Resale   936  06 to 10             73.0  Oct-19  \n",
       "10        OCR  Resale  1163  01 to 05             75.0  Oct-19  \n",
       "19        RCR  Resale  1528  01 to 05            999.0  Oct-19  \n",
       "20        RCR  Resale   926  16 to 20             84.0  Oct-19  \n",
       "...       ...     ...   ...       ...              ...     ...  \n",
       "32155     OCR  Resale  2067  01 to 05             80.0  Nov-16  \n",
       "32156     OCR  Resale  2217  01 to 05            999.0  Nov-16  \n",
       "32158     OCR  Resale   850  16 to 20             93.0  Nov-16  \n",
       "32159     OCR  Resale  1313  01 to 05             93.0  Nov-16  \n",
       "32160     OCR  Resale  2077  01 to 05             93.0  Nov-16  \n",
       "\n",
       "[11493 rows x 10 columns]"
      ]
     },
     "execution_count": 11,
     "metadata": {},
     "output_type": "execute_result"
    }
   ],
   "source": [
    "p_names_lower = p_names.str.lower()\n",
    "is_d_names =p_names_lower.str.contains('d')\n",
    "data_condo.loc[is_d_names]"
   ]
  },
  {
   "cell_type": "code",
   "execution_count": 12,
   "metadata": {},
   "outputs": [
    {
     "data": {
      "text/html": [
       "<div>\n",
       "<style scoped>\n",
       "    .dataframe tbody tr th:only-of-type {\n",
       "        vertical-align: middle;\n",
       "    }\n",
       "\n",
       "    .dataframe tbody tr th {\n",
       "        vertical-align: top;\n",
       "    }\n",
       "\n",
       "    .dataframe thead th {\n",
       "        text-align: right;\n",
       "    }\n",
       "</style>\n",
       "<table border=\"1\" class=\"dataframe\">\n",
       "  <thead>\n",
       "    <tr style=\"text-align: right;\">\n",
       "      <th></th>\n",
       "      <th>name</th>\n",
       "      <th>price</th>\n",
       "      <th>unit_price</th>\n",
       "      <th>district_code</th>\n",
       "      <th>segment</th>\n",
       "      <th>type</th>\n",
       "      <th>area</th>\n",
       "      <th>level</th>\n",
       "      <th>remaining_years</th>\n",
       "      <th>date</th>\n",
       "    </tr>\n",
       "  </thead>\n",
       "  <tbody>\n",
       "    <tr>\n",
       "      <th>7</th>\n",
       "      <td>DOVER PARKVIEW</td>\n",
       "      <td>1088000</td>\n",
       "      <td>1162</td>\n",
       "      <td>5</td>\n",
       "      <td>RCR</td>\n",
       "      <td>Resale</td>\n",
       "      <td>936</td>\n",
       "      <td>06 to 10</td>\n",
       "      <td>73.0</td>\n",
       "      <td>Oct-19</td>\n",
       "    </tr>\n",
       "    <tr>\n",
       "      <th>20</th>\n",
       "      <td>DOMAIN 21</td>\n",
       "      <td>1493000</td>\n",
       "      <td>1613</td>\n",
       "      <td>3</td>\n",
       "      <td>RCR</td>\n",
       "      <td>Resale</td>\n",
       "      <td>926</td>\n",
       "      <td>16 to 20</td>\n",
       "      <td>84.0</td>\n",
       "      <td>Oct-19</td>\n",
       "    </tr>\n",
       "    <tr>\n",
       "      <th>47</th>\n",
       "      <td>DOVER PARKVIEW</td>\n",
       "      <td>1336000</td>\n",
       "      <td>1070</td>\n",
       "      <td>5</td>\n",
       "      <td>RCR</td>\n",
       "      <td>Resale</td>\n",
       "      <td>1249</td>\n",
       "      <td>01 to 05</td>\n",
       "      <td>73.0</td>\n",
       "      <td>Oct-19</td>\n",
       "    </tr>\n",
       "    <tr>\n",
       "      <th>68</th>\n",
       "      <td>DOVER PARKVIEW</td>\n",
       "      <td>980000</td>\n",
       "      <td>1046</td>\n",
       "      <td>5</td>\n",
       "      <td>RCR</td>\n",
       "      <td>Resale</td>\n",
       "      <td>936</td>\n",
       "      <td>16 to 20</td>\n",
       "      <td>73.0</td>\n",
       "      <td>Sep-19</td>\n",
       "    </tr>\n",
       "    <tr>\n",
       "      <th>90</th>\n",
       "      <td>DOMAIN 21</td>\n",
       "      <td>1830000</td>\n",
       "      <td>1429</td>\n",
       "      <td>3</td>\n",
       "      <td>RCR</td>\n",
       "      <td>Resale</td>\n",
       "      <td>1281</td>\n",
       "      <td>11 to 15</td>\n",
       "      <td>84.0</td>\n",
       "      <td>Sep-19</td>\n",
       "    </tr>\n",
       "    <tr>\n",
       "      <th>...</th>\n",
       "      <td>...</td>\n",
       "      <td>...</td>\n",
       "      <td>...</td>\n",
       "      <td>...</td>\n",
       "      <td>...</td>\n",
       "      <td>...</td>\n",
       "      <td>...</td>\n",
       "      <td>...</td>\n",
       "      <td>...</td>\n",
       "      <td>...</td>\n",
       "    </tr>\n",
       "    <tr>\n",
       "      <th>27393</th>\n",
       "      <td>DAINTREE RESIDENCE</td>\n",
       "      <td>1082050</td>\n",
       "      <td>1621</td>\n",
       "      <td>21</td>\n",
       "      <td>RCR</td>\n",
       "      <td>New Sale</td>\n",
       "      <td>667</td>\n",
       "      <td>01 to 05</td>\n",
       "      <td>98.0</td>\n",
       "      <td>Jul-18</td>\n",
       "    </tr>\n",
       "    <tr>\n",
       "      <th>27394</th>\n",
       "      <td>DAINTREE RESIDENCE</td>\n",
       "      <td>1797400</td>\n",
       "      <td>1621</td>\n",
       "      <td>21</td>\n",
       "      <td>RCR</td>\n",
       "      <td>New Sale</td>\n",
       "      <td>1109</td>\n",
       "      <td>01 to 05</td>\n",
       "      <td>98.0</td>\n",
       "      <td>Jul-18</td>\n",
       "    </tr>\n",
       "    <tr>\n",
       "      <th>27395</th>\n",
       "      <td>DAINTREE RESIDENCE</td>\n",
       "      <td>1072550</td>\n",
       "      <td>1607</td>\n",
       "      <td>21</td>\n",
       "      <td>RCR</td>\n",
       "      <td>New Sale</td>\n",
       "      <td>667</td>\n",
       "      <td>01 to 05</td>\n",
       "      <td>98.0</td>\n",
       "      <td>Jul-18</td>\n",
       "    </tr>\n",
       "    <tr>\n",
       "      <th>27396</th>\n",
       "      <td>DAINTREE RESIDENCE</td>\n",
       "      <td>1280600</td>\n",
       "      <td>1652</td>\n",
       "      <td>21</td>\n",
       "      <td>RCR</td>\n",
       "      <td>New Sale</td>\n",
       "      <td>775</td>\n",
       "      <td>01 to 05</td>\n",
       "      <td>98.0</td>\n",
       "      <td>Jul-18</td>\n",
       "    </tr>\n",
       "    <tr>\n",
       "      <th>27397</th>\n",
       "      <td>DAINTREE RESIDENCE</td>\n",
       "      <td>1890500</td>\n",
       "      <td>1792</td>\n",
       "      <td>21</td>\n",
       "      <td>RCR</td>\n",
       "      <td>New Sale</td>\n",
       "      <td>1055</td>\n",
       "      <td>01 to 05</td>\n",
       "      <td>98.0</td>\n",
       "      <td>Jul-18</td>\n",
       "    </tr>\n",
       "  </tbody>\n",
       "</table>\n",
       "<p>726 rows × 10 columns</p>\n",
       "</div>"
      ],
      "text/plain": [
       "                     name    price  unit_price  district_code segment  \\\n",
       "7          DOVER PARKVIEW  1088000        1162              5     RCR   \n",
       "20              DOMAIN 21  1493000        1613              3     RCR   \n",
       "47         DOVER PARKVIEW  1336000        1070              5     RCR   \n",
       "68         DOVER PARKVIEW   980000        1046              5     RCR   \n",
       "90              DOMAIN 21  1830000        1429              3     RCR   \n",
       "...                   ...      ...         ...            ...     ...   \n",
       "27393  DAINTREE RESIDENCE  1082050        1621             21     RCR   \n",
       "27394  DAINTREE RESIDENCE  1797400        1621             21     RCR   \n",
       "27395  DAINTREE RESIDENCE  1072550        1607             21     RCR   \n",
       "27396  DAINTREE RESIDENCE  1280600        1652             21     RCR   \n",
       "27397  DAINTREE RESIDENCE  1890500        1792             21     RCR   \n",
       "\n",
       "           type  area     level  remaining_years    date  \n",
       "7        Resale   936  06 to 10             73.0  Oct-19  \n",
       "20       Resale   926  16 to 20             84.0  Oct-19  \n",
       "47       Resale  1249  01 to 05             73.0  Oct-19  \n",
       "68       Resale   936  16 to 20             73.0  Sep-19  \n",
       "90       Resale  1281  11 to 15             84.0  Sep-19  \n",
       "...         ...   ...       ...              ...     ...  \n",
       "27393  New Sale   667  01 to 05             98.0  Jul-18  \n",
       "27394  New Sale  1109  01 to 05             98.0  Jul-18  \n",
       "27395  New Sale   667  01 to 05             98.0  Jul-18  \n",
       "27396  New Sale   775  01 to 05             98.0  Jul-18  \n",
       "27397  New Sale  1055  01 to 05             98.0  Jul-18  \n",
       "\n",
       "[726 rows x 10 columns]"
      ]
     },
     "execution_count": 12,
     "metadata": {},
     "output_type": "execute_result"
    }
   ],
   "source": [
    "is_d_start = p_names_lower.str[0] == 'd'\n",
    "data_condo.loc[is_d_start]"
   ]
  },
  {
   "cell_type": "markdown",
   "metadata": {},
   "source": [
    "The `str` attribute provides rich tools for vectorized string operations. You may use the `help(data_condo.str)` command to find more information. \n",
    "\n",
    "### Data type change via the `astype()` method <a id=\"subsection2.2\"></a>\n",
    "\n",
    "In Python, data types are a key factor in determining the behaviors of data objects. Data type conversion is commonly used in data processing. Take the Singapore condo data for example, the column `level` is given as a series of strings in the format of \"XX to YY\". In preparing the data, we may want to create two columns `level_from` as the integer type objects \"XX\" and `level_to` the the integer type objects \"YY\". It can be done by using the method `astype()` which casts an entire row or column of Pandas objects to a specific data type. "
   ]
  },
  {
   "cell_type": "code",
   "execution_count": 13,
   "metadata": {},
   "outputs": [
    {
     "data": {
      "text/html": [
       "<div>\n",
       "<style scoped>\n",
       "    .dataframe tbody tr th:only-of-type {\n",
       "        vertical-align: middle;\n",
       "    }\n",
       "\n",
       "    .dataframe tbody tr th {\n",
       "        vertical-align: top;\n",
       "    }\n",
       "\n",
       "    .dataframe thead th {\n",
       "        text-align: right;\n",
       "    }\n",
       "</style>\n",
       "<table border=\"1\" class=\"dataframe\">\n",
       "  <thead>\n",
       "    <tr style=\"text-align: right;\">\n",
       "      <th></th>\n",
       "      <th>name</th>\n",
       "      <th>price</th>\n",
       "      <th>unit_price</th>\n",
       "      <th>district_code</th>\n",
       "      <th>segment</th>\n",
       "      <th>type</th>\n",
       "      <th>area</th>\n",
       "      <th>level</th>\n",
       "      <th>remaining_years</th>\n",
       "      <th>date</th>\n",
       "      <th>level_from</th>\n",
       "      <th>level_to</th>\n",
       "    </tr>\n",
       "  </thead>\n",
       "  <tbody>\n",
       "    <tr>\n",
       "      <th>0</th>\n",
       "      <td>SEASCAPE</td>\n",
       "      <td>4388000</td>\n",
       "      <td>2028</td>\n",
       "      <td>4</td>\n",
       "      <td>CCR</td>\n",
       "      <td>Resale</td>\n",
       "      <td>2164</td>\n",
       "      <td>06 to 10</td>\n",
       "      <td>87.0</td>\n",
       "      <td>Nov-19</td>\n",
       "      <td>6</td>\n",
       "      <td>10</td>\n",
       "    </tr>\n",
       "    <tr>\n",
       "      <th>1</th>\n",
       "      <td>COMMONWEALTH TOWERS</td>\n",
       "      <td>1300000</td>\n",
       "      <td>1887</td>\n",
       "      <td>3</td>\n",
       "      <td>RCR</td>\n",
       "      <td>Resale</td>\n",
       "      <td>689</td>\n",
       "      <td>16 to 20</td>\n",
       "      <td>93.0</td>\n",
       "      <td>Nov-19</td>\n",
       "      <td>16</td>\n",
       "      <td>20</td>\n",
       "    </tr>\n",
       "    <tr>\n",
       "      <th>2</th>\n",
       "      <td>THE TRILINQ</td>\n",
       "      <td>1755000</td>\n",
       "      <td>1304</td>\n",
       "      <td>5</td>\n",
       "      <td>OCR</td>\n",
       "      <td>Resale</td>\n",
       "      <td>1346</td>\n",
       "      <td>06 to 10</td>\n",
       "      <td>92.0</td>\n",
       "      <td>Nov-19</td>\n",
       "      <td>6</td>\n",
       "      <td>10</td>\n",
       "    </tr>\n",
       "    <tr>\n",
       "      <th>3</th>\n",
       "      <td>THE CREST</td>\n",
       "      <td>2085000</td>\n",
       "      <td>2201</td>\n",
       "      <td>3</td>\n",
       "      <td>RCR</td>\n",
       "      <td>Resale</td>\n",
       "      <td>947</td>\n",
       "      <td>01 to 05</td>\n",
       "      <td>92.0</td>\n",
       "      <td>Nov-19</td>\n",
       "      <td>1</td>\n",
       "      <td>5</td>\n",
       "    </tr>\n",
       "    <tr>\n",
       "      <th>4</th>\n",
       "      <td>THE ANCHORAGE</td>\n",
       "      <td>1848888</td>\n",
       "      <td>1468</td>\n",
       "      <td>3</td>\n",
       "      <td>RCR</td>\n",
       "      <td>Resale</td>\n",
       "      <td>1259</td>\n",
       "      <td>01 to 05</td>\n",
       "      <td>999.0</td>\n",
       "      <td>Nov-19</td>\n",
       "      <td>1</td>\n",
       "      <td>5</td>\n",
       "    </tr>\n",
       "  </tbody>\n",
       "</table>\n",
       "</div>"
      ],
      "text/plain": [
       "                  name    price  unit_price  district_code segment    type  \\\n",
       "0             SEASCAPE  4388000        2028              4     CCR  Resale   \n",
       "1  COMMONWEALTH TOWERS  1300000        1887              3     RCR  Resale   \n",
       "2          THE TRILINQ  1755000        1304              5     OCR  Resale   \n",
       "3            THE CREST  2085000        2201              3     RCR  Resale   \n",
       "4        THE ANCHORAGE  1848888        1468              3     RCR  Resale   \n",
       "\n",
       "   area     level  remaining_years    date  level_from  level_to  \n",
       "0  2164  06 to 10             87.0  Nov-19           6        10  \n",
       "1   689  16 to 20             93.0  Nov-19          16        20  \n",
       "2  1346  06 to 10             92.0  Nov-19           6        10  \n",
       "3   947  01 to 05             92.0  Nov-19           1         5  \n",
       "4  1259  01 to 05            999.0  Nov-19           1         5  "
      ]
     },
     "execution_count": 13,
     "metadata": {},
     "output_type": "execute_result"
    }
   ],
   "source": [
    "levels = data_condo['level']\n",
    "data_condo['level_from'] = levels.str[:2].astype(int)\n",
    "data_condo['level_to'] = levels.str[-2:].astype(int)\n",
    "data_condo.head()"
   ]
  },
  {
   "cell_type": "markdown",
   "metadata": {},
   "source": [
    "### Handling missing data <a id=\"subsection2.3\"></a>\n",
    "\n",
    "It is pretty common that real-world datasets may have some amount of data missing, such as the following GDP data for most countries from the year 1960 to 2018. "
   ]
  },
  {
   "cell_type": "code",
   "execution_count": 14,
   "metadata": {
    "scrolled": false
   },
   "outputs": [
    {
     "data": {
      "text/html": [
       "<div>\n",
       "<style scoped>\n",
       "    .dataframe tbody tr th:only-of-type {\n",
       "        vertical-align: middle;\n",
       "    }\n",
       "\n",
       "    .dataframe tbody tr th {\n",
       "        vertical-align: top;\n",
       "    }\n",
       "\n",
       "    .dataframe thead th {\n",
       "        text-align: right;\n",
       "    }\n",
       "</style>\n",
       "<table border=\"1\" class=\"dataframe\">\n",
       "  <thead>\n",
       "    <tr style=\"text-align: right;\">\n",
       "      <th></th>\n",
       "      <th>Country Name</th>\n",
       "      <th>Country Code</th>\n",
       "      <th>1960</th>\n",
       "      <th>1961</th>\n",
       "      <th>...</th>\n",
       "      <th>2015</th>\n",
       "      <th>2016</th>\n",
       "      <th>2017</th>\n",
       "      <th>2018</th>\n",
       "    </tr>\n",
       "  </thead>\n",
       "  <tbody>\n",
       "    <tr>\n",
       "      <th>0</th>\n",
       "      <td>Aruba</td>\n",
       "      <td>ABW</td>\n",
       "      <td>NaN</td>\n",
       "      <td>NaN</td>\n",
       "      <td>...</td>\n",
       "      <td>2.691620e+09</td>\n",
       "      <td>2.646927e+09</td>\n",
       "      <td>2.700559e+09</td>\n",
       "      <td>NaN</td>\n",
       "    </tr>\n",
       "    <tr>\n",
       "      <th>1</th>\n",
       "      <td>Afghanistan</td>\n",
       "      <td>AFG</td>\n",
       "      <td>5.377778e+08</td>\n",
       "      <td>5.488889e+08</td>\n",
       "      <td>...</td>\n",
       "      <td>1.990711e+10</td>\n",
       "      <td>1.936264e+10</td>\n",
       "      <td>2.019176e+10</td>\n",
       "      <td>1.936297e+10</td>\n",
       "    </tr>\n",
       "    <tr>\n",
       "      <th>2</th>\n",
       "      <td>Angola</td>\n",
       "      <td>AGO</td>\n",
       "      <td>NaN</td>\n",
       "      <td>NaN</td>\n",
       "      <td>...</td>\n",
       "      <td>1.161936e+11</td>\n",
       "      <td>1.011239e+11</td>\n",
       "      <td>1.221238e+11</td>\n",
       "      <td>1.057510e+11</td>\n",
       "    </tr>\n",
       "    <tr>\n",
       "      <th>3</th>\n",
       "      <td>Albania</td>\n",
       "      <td>ALB</td>\n",
       "      <td>NaN</td>\n",
       "      <td>NaN</td>\n",
       "      <td>...</td>\n",
       "      <td>1.138693e+10</td>\n",
       "      <td>1.186135e+10</td>\n",
       "      <td>1.302506e+10</td>\n",
       "      <td>1.510250e+10</td>\n",
       "    </tr>\n",
       "    <tr>\n",
       "      <th>4</th>\n",
       "      <td>Andorra</td>\n",
       "      <td>AND</td>\n",
       "      <td>NaN</td>\n",
       "      <td>NaN</td>\n",
       "      <td>...</td>\n",
       "      <td>2.811489e+09</td>\n",
       "      <td>2.877312e+09</td>\n",
       "      <td>3.013387e+09</td>\n",
       "      <td>3.236544e+09</td>\n",
       "    </tr>\n",
       "    <tr>\n",
       "      <th>...</th>\n",
       "      <td>...</td>\n",
       "      <td>...</td>\n",
       "      <td>...</td>\n",
       "      <td>...</td>\n",
       "      <td>...</td>\n",
       "      <td>...</td>\n",
       "      <td>...</td>\n",
       "      <td>...</td>\n",
       "      <td>...</td>\n",
       "    </tr>\n",
       "    <tr>\n",
       "      <th>210</th>\n",
       "      <td>Samoa</td>\n",
       "      <td>WSM</td>\n",
       "      <td>NaN</td>\n",
       "      <td>NaN</td>\n",
       "      <td>...</td>\n",
       "      <td>7.883073e+08</td>\n",
       "      <td>7.993764e+08</td>\n",
       "      <td>8.319038e+08</td>\n",
       "      <td>8.204918e+08</td>\n",
       "    </tr>\n",
       "    <tr>\n",
       "      <th>211</th>\n",
       "      <td>Yemen, Rep.</td>\n",
       "      <td>YEM</td>\n",
       "      <td>NaN</td>\n",
       "      <td>NaN</td>\n",
       "      <td>...</td>\n",
       "      <td>4.262833e+10</td>\n",
       "      <td>3.096824e+10</td>\n",
       "      <td>2.681870e+10</td>\n",
       "      <td>2.691440e+10</td>\n",
       "    </tr>\n",
       "    <tr>\n",
       "      <th>212</th>\n",
       "      <td>South Africa</td>\n",
       "      <td>ZAF</td>\n",
       "      <td>7.575397e+09</td>\n",
       "      <td>7.972997e+09</td>\n",
       "      <td>...</td>\n",
       "      <td>3.176205e+11</td>\n",
       "      <td>2.963573e+11</td>\n",
       "      <td>3.495541e+11</td>\n",
       "      <td>3.682889e+11</td>\n",
       "    </tr>\n",
       "    <tr>\n",
       "      <th>213</th>\n",
       "      <td>Zambia</td>\n",
       "      <td>ZMB</td>\n",
       "      <td>7.130000e+08</td>\n",
       "      <td>6.962857e+08</td>\n",
       "      <td>...</td>\n",
       "      <td>2.124335e+10</td>\n",
       "      <td>2.095475e+10</td>\n",
       "      <td>2.586814e+10</td>\n",
       "      <td>2.672007e+10</td>\n",
       "    </tr>\n",
       "    <tr>\n",
       "      <th>214</th>\n",
       "      <td>Zimbabwe</td>\n",
       "      <td>ZWE</td>\n",
       "      <td>1.052990e+09</td>\n",
       "      <td>1.096647e+09</td>\n",
       "      <td>...</td>\n",
       "      <td>1.996312e+10</td>\n",
       "      <td>2.054868e+10</td>\n",
       "      <td>2.281301e+10</td>\n",
       "      <td>3.100052e+10</td>\n",
       "    </tr>\n",
       "  </tbody>\n",
       "</table>\n",
       "<p>215 rows × 61 columns</p>\n",
       "</div>"
      ],
      "text/plain": [
       "     Country Name Country Code          1960          1961  ...          2015  \\\n",
       "0           Aruba          ABW           NaN           NaN  ...  2.691620e+09   \n",
       "1     Afghanistan          AFG  5.377778e+08  5.488889e+08  ...  1.990711e+10   \n",
       "2          Angola          AGO           NaN           NaN  ...  1.161936e+11   \n",
       "3         Albania          ALB           NaN           NaN  ...  1.138693e+10   \n",
       "4         Andorra          AND           NaN           NaN  ...  2.811489e+09   \n",
       "..            ...          ...           ...           ...  ...           ...   \n",
       "210         Samoa          WSM           NaN           NaN  ...  7.883073e+08   \n",
       "211   Yemen, Rep.          YEM           NaN           NaN  ...  4.262833e+10   \n",
       "212  South Africa          ZAF  7.575397e+09  7.972997e+09  ...  3.176205e+11   \n",
       "213        Zambia          ZMB  7.130000e+08  6.962857e+08  ...  2.124335e+10   \n",
       "214      Zimbabwe          ZWE  1.052990e+09  1.096647e+09  ...  1.996312e+10   \n",
       "\n",
       "             2016          2017          2018  \n",
       "0    2.646927e+09  2.700559e+09           NaN  \n",
       "1    1.936264e+10  2.019176e+10  1.936297e+10  \n",
       "2    1.011239e+11  1.221238e+11  1.057510e+11  \n",
       "3    1.186135e+10  1.302506e+10  1.510250e+10  \n",
       "4    2.877312e+09  3.013387e+09  3.236544e+09  \n",
       "..            ...           ...           ...  \n",
       "210  7.993764e+08  8.319038e+08  8.204918e+08  \n",
       "211  3.096824e+10  2.681870e+10  2.691440e+10  \n",
       "212  2.963573e+11  3.495541e+11  3.682889e+11  \n",
       "213  2.095475e+10  2.586814e+10  2.672007e+10  \n",
       "214  2.054868e+10  2.281301e+10  3.100052e+10  \n",
       "\n",
       "[215 rows x 61 columns]"
      ]
     },
     "execution_count": 14,
     "metadata": {},
     "output_type": "execute_result"
    }
   ],
   "source": [
    "pd.options.display.max_columns = 8\n",
    "data_gdp = pd.read_csv('gdp.csv')\n",
    "data_gdp"
   ]
  },
  {
   "cell_type": "markdown",
   "metadata": {},
   "source": [
    "It can be seen that the missing values are indicated by the mark <code>NaN</code>, meaning \"not a number\", in the data table. Next, we will discuss some basic operations that address missing data."
   ]
  },
  {
   "cell_type": "markdown",
   "metadata": {},
   "source": [
    "#### Detecting missing data:  <code>isnull()</code> and <code>notnull()</code>\n",
    "\n",
    "The method <code>isnull</code> is associated with <code>pandas.DataFrame</code> and <code>pandas.Series</code> objects. It returns <code>True</code> if the item in the table is <code>NaN</code>, and <code>False</code> otherwise. "
   ]
  },
  {
   "cell_type": "code",
   "execution_count": 15,
   "metadata": {
    "scrolled": false
   },
   "outputs": [
    {
     "data": {
      "text/html": [
       "<div>\n",
       "<style scoped>\n",
       "    .dataframe tbody tr th:only-of-type {\n",
       "        vertical-align: middle;\n",
       "    }\n",
       "\n",
       "    .dataframe tbody tr th {\n",
       "        vertical-align: top;\n",
       "    }\n",
       "\n",
       "    .dataframe thead th {\n",
       "        text-align: right;\n",
       "    }\n",
       "</style>\n",
       "<table border=\"1\" class=\"dataframe\">\n",
       "  <thead>\n",
       "    <tr style=\"text-align: right;\">\n",
       "      <th></th>\n",
       "      <th>1960</th>\n",
       "      <th>1961</th>\n",
       "    </tr>\n",
       "  </thead>\n",
       "  <tbody>\n",
       "    <tr>\n",
       "      <th>0</th>\n",
       "      <td>True</td>\n",
       "      <td>True</td>\n",
       "    </tr>\n",
       "    <tr>\n",
       "      <th>1</th>\n",
       "      <td>False</td>\n",
       "      <td>False</td>\n",
       "    </tr>\n",
       "    <tr>\n",
       "      <th>2</th>\n",
       "      <td>True</td>\n",
       "      <td>True</td>\n",
       "    </tr>\n",
       "    <tr>\n",
       "      <th>3</th>\n",
       "      <td>True</td>\n",
       "      <td>True</td>\n",
       "    </tr>\n",
       "    <tr>\n",
       "      <th>4</th>\n",
       "      <td>True</td>\n",
       "      <td>True</td>\n",
       "    </tr>\n",
       "    <tr>\n",
       "      <th>...</th>\n",
       "      <td>...</td>\n",
       "      <td>...</td>\n",
       "    </tr>\n",
       "    <tr>\n",
       "      <th>210</th>\n",
       "      <td>True</td>\n",
       "      <td>True</td>\n",
       "    </tr>\n",
       "    <tr>\n",
       "      <th>211</th>\n",
       "      <td>True</td>\n",
       "      <td>True</td>\n",
       "    </tr>\n",
       "    <tr>\n",
       "      <th>212</th>\n",
       "      <td>False</td>\n",
       "      <td>False</td>\n",
       "    </tr>\n",
       "    <tr>\n",
       "      <th>213</th>\n",
       "      <td>False</td>\n",
       "      <td>False</td>\n",
       "    </tr>\n",
       "    <tr>\n",
       "      <th>214</th>\n",
       "      <td>False</td>\n",
       "      <td>False</td>\n",
       "    </tr>\n",
       "  </tbody>\n",
       "</table>\n",
       "<p>215 rows × 2 columns</p>\n",
       "</div>"
      ],
      "text/plain": [
       "      1960   1961\n",
       "0     True   True\n",
       "1    False  False\n",
       "2     True   True\n",
       "3     True   True\n",
       "4     True   True\n",
       "..     ...    ...\n",
       "210   True   True\n",
       "211   True   True\n",
       "212  False  False\n",
       "213  False  False\n",
       "214  False  False\n",
       "\n",
       "[215 rows x 2 columns]"
      ]
     },
     "execution_count": 15,
     "metadata": {},
     "output_type": "execute_result"
    }
   ],
   "source": [
    "data_gdp.loc[:, '1960':'1961'].isnull()"
   ]
  },
  {
   "cell_type": "code",
   "execution_count": 16,
   "metadata": {
    "scrolled": false
   },
   "outputs": [
    {
     "data": {
      "text/plain": [
       "0       True\n",
       "1      False\n",
       "2       True\n",
       "3       True\n",
       "4       True\n",
       "       ...  \n",
       "210     True\n",
       "211     True\n",
       "212    False\n",
       "213    False\n",
       "214    False\n",
       "Name: 1960, Length: 215, dtype: bool"
      ]
     },
     "execution_count": 16,
     "metadata": {},
     "output_type": "execute_result"
    }
   ],
   "source": [
    "data_gdp['1960'].isnull()"
   ]
  },
  {
   "cell_type": "markdown",
   "metadata": {},
   "source": [
    "The other method, <code>notnull()</code>, as you can tell from the name, returns <code>True</code> if the item is not <code>NaN</code> and <code>False</code> otherwise. It is convenient to use this method for the selection of non-<code>NaN</code> rows from the data frame. For example, we can retrieve all GDP values for the year 1960 that are not <code>NaN</code> by the following code."
   ]
  },
  {
   "cell_type": "code",
   "execution_count": 17,
   "metadata": {
    "scrolled": false
   },
   "outputs": [
    {
     "data": {
      "text/html": [
       "<div>\n",
       "<style scoped>\n",
       "    .dataframe tbody tr th:only-of-type {\n",
       "        vertical-align: middle;\n",
       "    }\n",
       "\n",
       "    .dataframe tbody tr th {\n",
       "        vertical-align: top;\n",
       "    }\n",
       "\n",
       "    .dataframe thead th {\n",
       "        text-align: right;\n",
       "    }\n",
       "</style>\n",
       "<table border=\"1\" class=\"dataframe\">\n",
       "  <thead>\n",
       "    <tr style=\"text-align: right;\">\n",
       "      <th></th>\n",
       "      <th>Country Name</th>\n",
       "      <th>1960</th>\n",
       "    </tr>\n",
       "  </thead>\n",
       "  <tbody>\n",
       "    <tr>\n",
       "      <th>1</th>\n",
       "      <td>Afghanistan</td>\n",
       "      <td>5.377778e+08</td>\n",
       "    </tr>\n",
       "    <tr>\n",
       "      <th>10</th>\n",
       "      <td>Australia</td>\n",
       "      <td>1.857767e+10</td>\n",
       "    </tr>\n",
       "    <tr>\n",
       "      <th>11</th>\n",
       "      <td>Austria</td>\n",
       "      <td>6.592694e+09</td>\n",
       "    </tr>\n",
       "    <tr>\n",
       "      <th>13</th>\n",
       "      <td>Burundi</td>\n",
       "      <td>1.960000e+08</td>\n",
       "    </tr>\n",
       "    <tr>\n",
       "      <th>14</th>\n",
       "      <td>Belgium</td>\n",
       "      <td>1.165872e+10</td>\n",
       "    </tr>\n",
       "    <tr>\n",
       "      <th>...</th>\n",
       "      <td>...</td>\n",
       "      <td>...</td>\n",
       "    </tr>\n",
       "    <tr>\n",
       "      <th>204</th>\n",
       "      <td>St. Vincent and the Grenadines</td>\n",
       "      <td>1.306656e+07</td>\n",
       "    </tr>\n",
       "    <tr>\n",
       "      <th>205</th>\n",
       "      <td>Venezuela, RB</td>\n",
       "      <td>7.779091e+09</td>\n",
       "    </tr>\n",
       "    <tr>\n",
       "      <th>212</th>\n",
       "      <td>South Africa</td>\n",
       "      <td>7.575397e+09</td>\n",
       "    </tr>\n",
       "    <tr>\n",
       "      <th>213</th>\n",
       "      <td>Zambia</td>\n",
       "      <td>7.130000e+08</td>\n",
       "    </tr>\n",
       "    <tr>\n",
       "      <th>214</th>\n",
       "      <td>Zimbabwe</td>\n",
       "      <td>1.052990e+09</td>\n",
       "    </tr>\n",
       "  </tbody>\n",
       "</table>\n",
       "<p>101 rows × 2 columns</p>\n",
       "</div>"
      ],
      "text/plain": [
       "                       Country Name          1960\n",
       "1                       Afghanistan  5.377778e+08\n",
       "10                        Australia  1.857767e+10\n",
       "11                          Austria  6.592694e+09\n",
       "13                          Burundi  1.960000e+08\n",
       "14                          Belgium  1.165872e+10\n",
       "..                              ...           ...\n",
       "204  St. Vincent and the Grenadines  1.306656e+07\n",
       "205                   Venezuela, RB  7.779091e+09\n",
       "212                    South Africa  7.575397e+09\n",
       "213                          Zambia  7.130000e+08\n",
       "214                        Zimbabwe  1.052990e+09\n",
       "\n",
       "[101 rows x 2 columns]"
      ]
     },
     "execution_count": 17,
     "metadata": {},
     "output_type": "execute_result"
    }
   ],
   "source": [
    "gdp_1960 = data_gdp.loc[data_gdp['1960'].notnull(), # Select rows\n",
    "                        ['Country Name', '1960']]   # Select columns\n",
    "gdp_1960"
   ]
  },
  {
   "cell_type": "markdown",
   "metadata": {},
   "source": [
    "#### Dropping missing values: <code>dropna()</code>\n",
    "A more convenient way of selecting items that are not <code>NaN</code> is to use the <code>dropna()</code> method, which also applies to both <code>pandas.DataFrame</code> and <code>pandas.Series</code> objects. We will use a subset of the GDP data to demonstrate how it works."
   ]
  },
  {
   "cell_type": "code",
   "execution_count": 18,
   "metadata": {
    "scrolled": false
   },
   "outputs": [
    {
     "data": {
      "text/html": [
       "<div>\n",
       "<style scoped>\n",
       "    .dataframe tbody tr th:only-of-type {\n",
       "        vertical-align: middle;\n",
       "    }\n",
       "\n",
       "    .dataframe tbody tr th {\n",
       "        vertical-align: top;\n",
       "    }\n",
       "\n",
       "    .dataframe thead th {\n",
       "        text-align: right;\n",
       "    }\n",
       "</style>\n",
       "<table border=\"1\" class=\"dataframe\">\n",
       "  <thead>\n",
       "    <tr style=\"text-align: right;\">\n",
       "      <th></th>\n",
       "      <th>1981</th>\n",
       "      <th>1982</th>\n",
       "      <th>1983</th>\n",
       "      <th>1984</th>\n",
       "      <th>1985</th>\n",
       "      <th>1986</th>\n",
       "    </tr>\n",
       "  </thead>\n",
       "  <tbody>\n",
       "    <tr>\n",
       "      <th>0</th>\n",
       "      <td>NaN</td>\n",
       "      <td>NaN</td>\n",
       "      <td>NaN</td>\n",
       "      <td>NaN</td>\n",
       "      <td>NaN</td>\n",
       "      <td>4.054634e+08</td>\n",
       "    </tr>\n",
       "    <tr>\n",
       "      <th>1</th>\n",
       "      <td>3.478788e+09</td>\n",
       "      <td>NaN</td>\n",
       "      <td>NaN</td>\n",
       "      <td>NaN</td>\n",
       "      <td>NaN</td>\n",
       "      <td>NaN</td>\n",
       "    </tr>\n",
       "    <tr>\n",
       "      <th>2</th>\n",
       "      <td>5.550483e+09</td>\n",
       "      <td>5.550483e+09</td>\n",
       "      <td>5.784342e+09</td>\n",
       "      <td>6.131475e+09</td>\n",
       "      <td>7.553560e+09</td>\n",
       "      <td>7.072063e+09</td>\n",
       "    </tr>\n",
       "    <tr>\n",
       "      <th>3</th>\n",
       "      <td>NaN</td>\n",
       "      <td>NaN</td>\n",
       "      <td>NaN</td>\n",
       "      <td>1.857338e+09</td>\n",
       "      <td>1.897050e+09</td>\n",
       "      <td>2.097326e+09</td>\n",
       "    </tr>\n",
       "    <tr>\n",
       "      <th>4</th>\n",
       "      <td>3.889587e+08</td>\n",
       "      <td>3.758960e+08</td>\n",
       "      <td>3.278618e+08</td>\n",
       "      <td>3.300707e+08</td>\n",
       "      <td>3.467380e+08</td>\n",
       "      <td>4.820006e+08</td>\n",
       "    </tr>\n",
       "    <tr>\n",
       "      <th>5</th>\n",
       "      <td>4.933342e+10</td>\n",
       "      <td>4.662272e+10</td>\n",
       "      <td>4.280332e+10</td>\n",
       "      <td>4.180795e+10</td>\n",
       "      <td>4.060365e+10</td>\n",
       "      <td>3.394361e+10</td>\n",
       "    </tr>\n",
       "    <tr>\n",
       "      <th>6</th>\n",
       "      <td>7.867684e+10</td>\n",
       "      <td>8.430749e+10</td>\n",
       "      <td>1.039791e+11</td>\n",
       "      <td>7.909200e+10</td>\n",
       "      <td>8.841667e+10</td>\n",
       "      <td>1.109344e+11</td>\n",
       "    </tr>\n",
       "  </tbody>\n",
       "</table>\n",
       "</div>"
      ],
      "text/plain": [
       "           1981          1982          1983          1984          1985  \\\n",
       "0           NaN           NaN           NaN           NaN           NaN   \n",
       "1  3.478788e+09           NaN           NaN           NaN           NaN   \n",
       "2  5.550483e+09  5.550483e+09  5.784342e+09  6.131475e+09  7.553560e+09   \n",
       "3           NaN           NaN           NaN  1.857338e+09  1.897050e+09   \n",
       "4  3.889587e+08  3.758960e+08  3.278618e+08  3.300707e+08  3.467380e+08   \n",
       "5  4.933342e+10  4.662272e+10  4.280332e+10  4.180795e+10  4.060365e+10   \n",
       "6  7.867684e+10  8.430749e+10  1.039791e+11  7.909200e+10  8.841667e+10   \n",
       "\n",
       "           1986  \n",
       "0  4.054634e+08  \n",
       "1           NaN  \n",
       "2  7.072063e+09  \n",
       "3  2.097326e+09  \n",
       "4  4.820006e+08  \n",
       "5  3.394361e+10  \n",
       "6  1.109344e+11  "
      ]
     },
     "execution_count": 18,
     "metadata": {},
     "output_type": "execute_result"
    }
   ],
   "source": [
    "gdp_subset = data_gdp.loc[:6, '1981':'1986']\n",
    "gdp_subset"
   ]
  },
  {
   "cell_type": "markdown",
   "metadata": {},
   "source": [
    "By default, the <code>dropna()</code> method drops all rows in which any null value is present. As you can see from the following example, rows <code>0</code>, <code>1</code> and <code>3</code> that have <code>NaN</code> values are removed, so there are only four rows left after dropping these rows. "
   ]
  },
  {
   "cell_type": "code",
   "execution_count": 19,
   "metadata": {
    "scrolled": false
   },
   "outputs": [
    {
     "data": {
      "text/html": [
       "<div>\n",
       "<style scoped>\n",
       "    .dataframe tbody tr th:only-of-type {\n",
       "        vertical-align: middle;\n",
       "    }\n",
       "\n",
       "    .dataframe tbody tr th {\n",
       "        vertical-align: top;\n",
       "    }\n",
       "\n",
       "    .dataframe thead th {\n",
       "        text-align: right;\n",
       "    }\n",
       "</style>\n",
       "<table border=\"1\" class=\"dataframe\">\n",
       "  <thead>\n",
       "    <tr style=\"text-align: right;\">\n",
       "      <th></th>\n",
       "      <th>1981</th>\n",
       "      <th>1982</th>\n",
       "      <th>1983</th>\n",
       "      <th>1984</th>\n",
       "      <th>1985</th>\n",
       "      <th>1986</th>\n",
       "    </tr>\n",
       "  </thead>\n",
       "  <tbody>\n",
       "    <tr>\n",
       "      <th>2</th>\n",
       "      <td>5.550483e+09</td>\n",
       "      <td>5.550483e+09</td>\n",
       "      <td>5.784342e+09</td>\n",
       "      <td>6.131475e+09</td>\n",
       "      <td>7.553560e+09</td>\n",
       "      <td>7.072063e+09</td>\n",
       "    </tr>\n",
       "    <tr>\n",
       "      <th>4</th>\n",
       "      <td>3.889587e+08</td>\n",
       "      <td>3.758960e+08</td>\n",
       "      <td>3.278618e+08</td>\n",
       "      <td>3.300707e+08</td>\n",
       "      <td>3.467380e+08</td>\n",
       "      <td>4.820006e+08</td>\n",
       "    </tr>\n",
       "    <tr>\n",
       "      <th>5</th>\n",
       "      <td>4.933342e+10</td>\n",
       "      <td>4.662272e+10</td>\n",
       "      <td>4.280332e+10</td>\n",
       "      <td>4.180795e+10</td>\n",
       "      <td>4.060365e+10</td>\n",
       "      <td>3.394361e+10</td>\n",
       "    </tr>\n",
       "    <tr>\n",
       "      <th>6</th>\n",
       "      <td>7.867684e+10</td>\n",
       "      <td>8.430749e+10</td>\n",
       "      <td>1.039791e+11</td>\n",
       "      <td>7.909200e+10</td>\n",
       "      <td>8.841667e+10</td>\n",
       "      <td>1.109344e+11</td>\n",
       "    </tr>\n",
       "  </tbody>\n",
       "</table>\n",
       "</div>"
      ],
      "text/plain": [
       "           1981          1982          1983          1984          1985  \\\n",
       "2  5.550483e+09  5.550483e+09  5.784342e+09  6.131475e+09  7.553560e+09   \n",
       "4  3.889587e+08  3.758960e+08  3.278618e+08  3.300707e+08  3.467380e+08   \n",
       "5  4.933342e+10  4.662272e+10  4.280332e+10  4.180795e+10  4.060365e+10   \n",
       "6  7.867684e+10  8.430749e+10  1.039791e+11  7.909200e+10  8.841667e+10   \n",
       "\n",
       "           1986  \n",
       "2  7.072063e+09  \n",
       "4  4.820006e+08  \n",
       "5  3.394361e+10  \n",
       "6  1.109344e+11  "
      ]
     },
     "execution_count": 19,
     "metadata": {},
     "output_type": "execute_result"
    }
   ],
   "source": [
    "temp = gdp_subset.dropna()\n",
    "temp"
   ]
  },
  {
   "cell_type": "markdown",
   "metadata": {},
   "source": [
    "Please note that in the default setting, the <code>dropna()</code> method returns a new <code>pandas.DataFrame</code> object with the <code>NaN</code> rows removed, while the original data table remain unchanged. "
   ]
  },
  {
   "cell_type": "code",
   "execution_count": 20,
   "metadata": {
    "scrolled": true
   },
   "outputs": [
    {
     "data": {
      "text/html": [
       "<div>\n",
       "<style scoped>\n",
       "    .dataframe tbody tr th:only-of-type {\n",
       "        vertical-align: middle;\n",
       "    }\n",
       "\n",
       "    .dataframe tbody tr th {\n",
       "        vertical-align: top;\n",
       "    }\n",
       "\n",
       "    .dataframe thead th {\n",
       "        text-align: right;\n",
       "    }\n",
       "</style>\n",
       "<table border=\"1\" class=\"dataframe\">\n",
       "  <thead>\n",
       "    <tr style=\"text-align: right;\">\n",
       "      <th></th>\n",
       "      <th>1981</th>\n",
       "      <th>1982</th>\n",
       "      <th>1983</th>\n",
       "      <th>1984</th>\n",
       "      <th>1985</th>\n",
       "      <th>1986</th>\n",
       "    </tr>\n",
       "  </thead>\n",
       "  <tbody>\n",
       "    <tr>\n",
       "      <th>0</th>\n",
       "      <td>NaN</td>\n",
       "      <td>NaN</td>\n",
       "      <td>NaN</td>\n",
       "      <td>NaN</td>\n",
       "      <td>NaN</td>\n",
       "      <td>4.054634e+08</td>\n",
       "    </tr>\n",
       "    <tr>\n",
       "      <th>1</th>\n",
       "      <td>3.478788e+09</td>\n",
       "      <td>NaN</td>\n",
       "      <td>NaN</td>\n",
       "      <td>NaN</td>\n",
       "      <td>NaN</td>\n",
       "      <td>NaN</td>\n",
       "    </tr>\n",
       "    <tr>\n",
       "      <th>2</th>\n",
       "      <td>5.550483e+09</td>\n",
       "      <td>5.550483e+09</td>\n",
       "      <td>5.784342e+09</td>\n",
       "      <td>6.131475e+09</td>\n",
       "      <td>7.553560e+09</td>\n",
       "      <td>7.072063e+09</td>\n",
       "    </tr>\n",
       "    <tr>\n",
       "      <th>3</th>\n",
       "      <td>NaN</td>\n",
       "      <td>NaN</td>\n",
       "      <td>NaN</td>\n",
       "      <td>1.857338e+09</td>\n",
       "      <td>1.897050e+09</td>\n",
       "      <td>2.097326e+09</td>\n",
       "    </tr>\n",
       "    <tr>\n",
       "      <th>4</th>\n",
       "      <td>3.889587e+08</td>\n",
       "      <td>3.758960e+08</td>\n",
       "      <td>3.278618e+08</td>\n",
       "      <td>3.300707e+08</td>\n",
       "      <td>3.467380e+08</td>\n",
       "      <td>4.820006e+08</td>\n",
       "    </tr>\n",
       "    <tr>\n",
       "      <th>5</th>\n",
       "      <td>4.933342e+10</td>\n",
       "      <td>4.662272e+10</td>\n",
       "      <td>4.280332e+10</td>\n",
       "      <td>4.180795e+10</td>\n",
       "      <td>4.060365e+10</td>\n",
       "      <td>3.394361e+10</td>\n",
       "    </tr>\n",
       "    <tr>\n",
       "      <th>6</th>\n",
       "      <td>7.867684e+10</td>\n",
       "      <td>8.430749e+10</td>\n",
       "      <td>1.039791e+11</td>\n",
       "      <td>7.909200e+10</td>\n",
       "      <td>8.841667e+10</td>\n",
       "      <td>1.109344e+11</td>\n",
       "    </tr>\n",
       "  </tbody>\n",
       "</table>\n",
       "</div>"
      ],
      "text/plain": [
       "           1981          1982          1983          1984          1985  \\\n",
       "0           NaN           NaN           NaN           NaN           NaN   \n",
       "1  3.478788e+09           NaN           NaN           NaN           NaN   \n",
       "2  5.550483e+09  5.550483e+09  5.784342e+09  6.131475e+09  7.553560e+09   \n",
       "3           NaN           NaN           NaN  1.857338e+09  1.897050e+09   \n",
       "4  3.889587e+08  3.758960e+08  3.278618e+08  3.300707e+08  3.467380e+08   \n",
       "5  4.933342e+10  4.662272e+10  4.280332e+10  4.180795e+10  4.060365e+10   \n",
       "6  7.867684e+10  8.430749e+10  1.039791e+11  7.909200e+10  8.841667e+10   \n",
       "\n",
       "           1986  \n",
       "0  4.054634e+08  \n",
       "1           NaN  \n",
       "2  7.072063e+09  \n",
       "3  2.097326e+09  \n",
       "4  4.820006e+08  \n",
       "5  3.394361e+10  \n",
       "6  1.109344e+11  "
      ]
     },
     "execution_count": 20,
     "metadata": {},
     "output_type": "execute_result"
    }
   ],
   "source": [
    "gdp_subset      # The original data frame remains unchanged"
   ]
  },
  {
   "cell_type": "markdown",
   "metadata": {},
   "source": [
    "We can also remove the <code>NaN</code> rows from the original data frame by configuring the argument <code>inplace=True</code>. In such cases, the original data frame is overwritten, but the method <code>dropna()</code> returns nothing (<code>None</code>)."
   ]
  },
  {
   "cell_type": "code",
   "execution_count": 21,
   "metadata": {
    "scrolled": true
   },
   "outputs": [
    {
     "name": "stdout",
     "output_type": "stream",
     "text": [
      "None\n"
     ]
    }
   ],
   "source": [
    "temp = gdp_subset.dropna(inplace=True)\n",
    "print(temp)     # The output of the dropna method is None"
   ]
  },
  {
   "cell_type": "code",
   "execution_count": 22,
   "metadata": {
    "scrolled": true
   },
   "outputs": [
    {
     "data": {
      "text/html": [
       "<div>\n",
       "<style scoped>\n",
       "    .dataframe tbody tr th:only-of-type {\n",
       "        vertical-align: middle;\n",
       "    }\n",
       "\n",
       "    .dataframe tbody tr th {\n",
       "        vertical-align: top;\n",
       "    }\n",
       "\n",
       "    .dataframe thead th {\n",
       "        text-align: right;\n",
       "    }\n",
       "</style>\n",
       "<table border=\"1\" class=\"dataframe\">\n",
       "  <thead>\n",
       "    <tr style=\"text-align: right;\">\n",
       "      <th></th>\n",
       "      <th>1981</th>\n",
       "      <th>1982</th>\n",
       "      <th>1983</th>\n",
       "      <th>1984</th>\n",
       "      <th>1985</th>\n",
       "      <th>1986</th>\n",
       "    </tr>\n",
       "  </thead>\n",
       "  <tbody>\n",
       "    <tr>\n",
       "      <th>2</th>\n",
       "      <td>5.550483e+09</td>\n",
       "      <td>5.550483e+09</td>\n",
       "      <td>5.784342e+09</td>\n",
       "      <td>6.131475e+09</td>\n",
       "      <td>7.553560e+09</td>\n",
       "      <td>7.072063e+09</td>\n",
       "    </tr>\n",
       "    <tr>\n",
       "      <th>4</th>\n",
       "      <td>3.889587e+08</td>\n",
       "      <td>3.758960e+08</td>\n",
       "      <td>3.278618e+08</td>\n",
       "      <td>3.300707e+08</td>\n",
       "      <td>3.467380e+08</td>\n",
       "      <td>4.820006e+08</td>\n",
       "    </tr>\n",
       "    <tr>\n",
       "      <th>5</th>\n",
       "      <td>4.933342e+10</td>\n",
       "      <td>4.662272e+10</td>\n",
       "      <td>4.280332e+10</td>\n",
       "      <td>4.180795e+10</td>\n",
       "      <td>4.060365e+10</td>\n",
       "      <td>3.394361e+10</td>\n",
       "    </tr>\n",
       "    <tr>\n",
       "      <th>6</th>\n",
       "      <td>7.867684e+10</td>\n",
       "      <td>8.430749e+10</td>\n",
       "      <td>1.039791e+11</td>\n",
       "      <td>7.909200e+10</td>\n",
       "      <td>8.841667e+10</td>\n",
       "      <td>1.109344e+11</td>\n",
       "    </tr>\n",
       "  </tbody>\n",
       "</table>\n",
       "</div>"
      ],
      "text/plain": [
       "           1981          1982          1983          1984          1985  \\\n",
       "2  5.550483e+09  5.550483e+09  5.784342e+09  6.131475e+09  7.553560e+09   \n",
       "4  3.889587e+08  3.758960e+08  3.278618e+08  3.300707e+08  3.467380e+08   \n",
       "5  4.933342e+10  4.662272e+10  4.280332e+10  4.180795e+10  4.060365e+10   \n",
       "6  7.867684e+10  8.430749e+10  1.039791e+11  7.909200e+10  8.841667e+10   \n",
       "\n",
       "           1986  \n",
       "2  7.072063e+09  \n",
       "4  4.820006e+08  \n",
       "5  3.394361e+10  \n",
       "6  1.109344e+11  "
      ]
     },
     "execution_count": 22,
     "metadata": {},
     "output_type": "execute_result"
    }
   ],
   "source": [
    "gdp_subset      # The original data frame is overwritten"
   ]
  },
  {
   "cell_type": "markdown",
   "metadata": {},
   "source": [
    "You may use the <code>help()</code> function to explore other arguments of the <code>dropna()</code> method, such as <code>axis</code> and <code>how</code>."
   ]
  },
  {
   "cell_type": "markdown",
   "metadata": {},
   "source": [
    "#### Replacing <code>NaN</code> by other values: <code>fillna()</code>\n",
    "\n",
    "Sometimes rather than dropping <code>NaN</code> values, you would rather replace them with a valid value, such as zero or a string remark. This can be done by using the <code>fillna()</code> method. "
   ]
  },
  {
   "cell_type": "code",
   "execution_count": 24,
   "metadata": {
    "scrolled": true
   },
   "outputs": [
    {
     "data": {
      "text/html": [
       "<div>\n",
       "<style scoped>\n",
       "    .dataframe tbody tr th:only-of-type {\n",
       "        vertical-align: middle;\n",
       "    }\n",
       "\n",
       "    .dataframe tbody tr th {\n",
       "        vertical-align: top;\n",
       "    }\n",
       "\n",
       "    .dataframe thead th {\n",
       "        text-align: right;\n",
       "    }\n",
       "</style>\n",
       "<table border=\"1\" class=\"dataframe\">\n",
       "  <thead>\n",
       "    <tr style=\"text-align: right;\">\n",
       "      <th></th>\n",
       "      <th>1981</th>\n",
       "      <th>1982</th>\n",
       "      <th>1983</th>\n",
       "      <th>1984</th>\n",
       "      <th>1985</th>\n",
       "      <th>1986</th>\n",
       "    </tr>\n",
       "  </thead>\n",
       "  <tbody>\n",
       "    <tr>\n",
       "      <th>0</th>\n",
       "      <td>NaN</td>\n",
       "      <td>NaN</td>\n",
       "      <td>NaN</td>\n",
       "      <td>NaN</td>\n",
       "      <td>NaN</td>\n",
       "      <td>4.054634e+08</td>\n",
       "    </tr>\n",
       "    <tr>\n",
       "      <th>1</th>\n",
       "      <td>3.478788e+09</td>\n",
       "      <td>NaN</td>\n",
       "      <td>NaN</td>\n",
       "      <td>NaN</td>\n",
       "      <td>NaN</td>\n",
       "      <td>NaN</td>\n",
       "    </tr>\n",
       "    <tr>\n",
       "      <th>2</th>\n",
       "      <td>5.550483e+09</td>\n",
       "      <td>5.550483e+09</td>\n",
       "      <td>5.784342e+09</td>\n",
       "      <td>6.131475e+09</td>\n",
       "      <td>7.553560e+09</td>\n",
       "      <td>7.072063e+09</td>\n",
       "    </tr>\n",
       "    <tr>\n",
       "      <th>3</th>\n",
       "      <td>NaN</td>\n",
       "      <td>NaN</td>\n",
       "      <td>NaN</td>\n",
       "      <td>1.857338e+09</td>\n",
       "      <td>1.897050e+09</td>\n",
       "      <td>2.097326e+09</td>\n",
       "    </tr>\n",
       "    <tr>\n",
       "      <th>4</th>\n",
       "      <td>3.889587e+08</td>\n",
       "      <td>3.758960e+08</td>\n",
       "      <td>3.278618e+08</td>\n",
       "      <td>3.300707e+08</td>\n",
       "      <td>3.467380e+08</td>\n",
       "      <td>4.820006e+08</td>\n",
       "    </tr>\n",
       "    <tr>\n",
       "      <th>5</th>\n",
       "      <td>4.933342e+10</td>\n",
       "      <td>4.662272e+10</td>\n",
       "      <td>4.280332e+10</td>\n",
       "      <td>4.180795e+10</td>\n",
       "      <td>4.060365e+10</td>\n",
       "      <td>3.394361e+10</td>\n",
       "    </tr>\n",
       "    <tr>\n",
       "      <th>6</th>\n",
       "      <td>7.867684e+10</td>\n",
       "      <td>8.430749e+10</td>\n",
       "      <td>1.039791e+11</td>\n",
       "      <td>7.909200e+10</td>\n",
       "      <td>8.841667e+10</td>\n",
       "      <td>1.109344e+11</td>\n",
       "    </tr>\n",
       "  </tbody>\n",
       "</table>\n",
       "</div>"
      ],
      "text/plain": [
       "           1981          1982          1983          1984          1985  \\\n",
       "0           NaN           NaN           NaN           NaN           NaN   \n",
       "1  3.478788e+09           NaN           NaN           NaN           NaN   \n",
       "2  5.550483e+09  5.550483e+09  5.784342e+09  6.131475e+09  7.553560e+09   \n",
       "3           NaN           NaN           NaN  1.857338e+09  1.897050e+09   \n",
       "4  3.889587e+08  3.758960e+08  3.278618e+08  3.300707e+08  3.467380e+08   \n",
       "5  4.933342e+10  4.662272e+10  4.280332e+10  4.180795e+10  4.060365e+10   \n",
       "6  7.867684e+10  8.430749e+10  1.039791e+11  7.909200e+10  8.841667e+10   \n",
       "\n",
       "           1986  \n",
       "0  4.054634e+08  \n",
       "1           NaN  \n",
       "2  7.072063e+09  \n",
       "3  2.097326e+09  \n",
       "4  4.820006e+08  \n",
       "5  3.394361e+10  \n",
       "6  1.109344e+11  "
      ]
     },
     "execution_count": 24,
     "metadata": {},
     "output_type": "execute_result"
    }
   ],
   "source": [
    "gdp_subset = data_gdp.loc[:6, '1981':'1986']\n",
    "gdp_subset"
   ]
  },
  {
   "cell_type": "code",
   "execution_count": 25,
   "metadata": {
    "scrolled": true
   },
   "outputs": [
    {
     "data": {
      "text/html": [
       "<div>\n",
       "<style scoped>\n",
       "    .dataframe tbody tr th:only-of-type {\n",
       "        vertical-align: middle;\n",
       "    }\n",
       "\n",
       "    .dataframe tbody tr th {\n",
       "        vertical-align: top;\n",
       "    }\n",
       "\n",
       "    .dataframe thead th {\n",
       "        text-align: right;\n",
       "    }\n",
       "</style>\n",
       "<table border=\"1\" class=\"dataframe\">\n",
       "  <thead>\n",
       "    <tr style=\"text-align: right;\">\n",
       "      <th></th>\n",
       "      <th>1981</th>\n",
       "      <th>1982</th>\n",
       "      <th>1983</th>\n",
       "      <th>1984</th>\n",
       "      <th>1985</th>\n",
       "      <th>1986</th>\n",
       "    </tr>\n",
       "  </thead>\n",
       "  <tbody>\n",
       "    <tr>\n",
       "      <th>0</th>\n",
       "      <td>Unknown</td>\n",
       "      <td>Unknown</td>\n",
       "      <td>Unknown</td>\n",
       "      <td>Unknown</td>\n",
       "      <td>Unknown</td>\n",
       "      <td>4.05463e+08</td>\n",
       "    </tr>\n",
       "    <tr>\n",
       "      <th>1</th>\n",
       "      <td>3.47879e+09</td>\n",
       "      <td>Unknown</td>\n",
       "      <td>Unknown</td>\n",
       "      <td>Unknown</td>\n",
       "      <td>Unknown</td>\n",
       "      <td>Unknown</td>\n",
       "    </tr>\n",
       "    <tr>\n",
       "      <th>2</th>\n",
       "      <td>5.55048e+09</td>\n",
       "      <td>5.55048e+09</td>\n",
       "      <td>5.78434e+09</td>\n",
       "      <td>6.13148e+09</td>\n",
       "      <td>7.55356e+09</td>\n",
       "      <td>7.07206e+09</td>\n",
       "    </tr>\n",
       "    <tr>\n",
       "      <th>3</th>\n",
       "      <td>Unknown</td>\n",
       "      <td>Unknown</td>\n",
       "      <td>Unknown</td>\n",
       "      <td>1.85734e+09</td>\n",
       "      <td>1.89705e+09</td>\n",
       "      <td>2.09733e+09</td>\n",
       "    </tr>\n",
       "    <tr>\n",
       "      <th>4</th>\n",
       "      <td>3.88959e+08</td>\n",
       "      <td>3.75896e+08</td>\n",
       "      <td>3.27862e+08</td>\n",
       "      <td>3.30071e+08</td>\n",
       "      <td>3.46738e+08</td>\n",
       "      <td>4.82001e+08</td>\n",
       "    </tr>\n",
       "    <tr>\n",
       "      <th>5</th>\n",
       "      <td>4.93334e+10</td>\n",
       "      <td>4.66227e+10</td>\n",
       "      <td>4.28033e+10</td>\n",
       "      <td>4.1808e+10</td>\n",
       "      <td>4.06037e+10</td>\n",
       "      <td>3.39436e+10</td>\n",
       "    </tr>\n",
       "    <tr>\n",
       "      <th>6</th>\n",
       "      <td>7.86768e+10</td>\n",
       "      <td>8.43075e+10</td>\n",
       "      <td>1.03979e+11</td>\n",
       "      <td>7.9092e+10</td>\n",
       "      <td>8.84167e+10</td>\n",
       "      <td>1.10934e+11</td>\n",
       "    </tr>\n",
       "  </tbody>\n",
       "</table>\n",
       "</div>"
      ],
      "text/plain": [
       "          1981         1982         1983         1984         1985  \\\n",
       "0      Unknown      Unknown      Unknown      Unknown      Unknown   \n",
       "1  3.47879e+09      Unknown      Unknown      Unknown      Unknown   \n",
       "2  5.55048e+09  5.55048e+09  5.78434e+09  6.13148e+09  7.55356e+09   \n",
       "3      Unknown      Unknown      Unknown  1.85734e+09  1.89705e+09   \n",
       "4  3.88959e+08  3.75896e+08  3.27862e+08  3.30071e+08  3.46738e+08   \n",
       "5  4.93334e+10  4.66227e+10  4.28033e+10   4.1808e+10  4.06037e+10   \n",
       "6  7.86768e+10  8.43075e+10  1.03979e+11   7.9092e+10  8.84167e+10   \n",
       "\n",
       "          1986  \n",
       "0  4.05463e+08  \n",
       "1      Unknown  \n",
       "2  7.07206e+09  \n",
       "3  2.09733e+09  \n",
       "4  4.82001e+08  \n",
       "5  3.39436e+10  \n",
       "6  1.10934e+11  "
      ]
     },
     "execution_count": 25,
     "metadata": {},
     "output_type": "execute_result"
    }
   ],
   "source": [
    "temp = gdp_subset.fillna('Unknown') # Fill all NaN items with 'Unknown'\n",
    "temp"
   ]
  },
  {
   "cell_type": "markdown",
   "metadata": {},
   "source": [
    "Similar to the previous case, the argument <code>inplace</code> can be used to determine if the method returns a new data frame or simply overwrite the original data frame without returning anything."
   ]
  },
  {
   "cell_type": "code",
   "execution_count": 26,
   "metadata": {
    "scrolled": false
   },
   "outputs": [
    {
     "data": {
      "text/html": [
       "<div>\n",
       "<style scoped>\n",
       "    .dataframe tbody tr th:only-of-type {\n",
       "        vertical-align: middle;\n",
       "    }\n",
       "\n",
       "    .dataframe tbody tr th {\n",
       "        vertical-align: top;\n",
       "    }\n",
       "\n",
       "    .dataframe thead th {\n",
       "        text-align: right;\n",
       "    }\n",
       "</style>\n",
       "<table border=\"1\" class=\"dataframe\">\n",
       "  <thead>\n",
       "    <tr style=\"text-align: right;\">\n",
       "      <th></th>\n",
       "      <th>1981</th>\n",
       "      <th>1982</th>\n",
       "      <th>1983</th>\n",
       "      <th>1984</th>\n",
       "      <th>1985</th>\n",
       "      <th>1986</th>\n",
       "    </tr>\n",
       "  </thead>\n",
       "  <tbody>\n",
       "    <tr>\n",
       "      <th>0</th>\n",
       "      <td>0.000000e+00</td>\n",
       "      <td>0.000000e+00</td>\n",
       "      <td>0.000000e+00</td>\n",
       "      <td>0.000000e+00</td>\n",
       "      <td>0.000000e+00</td>\n",
       "      <td>4.054634e+08</td>\n",
       "    </tr>\n",
       "    <tr>\n",
       "      <th>1</th>\n",
       "      <td>3.478788e+09</td>\n",
       "      <td>0.000000e+00</td>\n",
       "      <td>0.000000e+00</td>\n",
       "      <td>0.000000e+00</td>\n",
       "      <td>0.000000e+00</td>\n",
       "      <td>0.000000e+00</td>\n",
       "    </tr>\n",
       "    <tr>\n",
       "      <th>2</th>\n",
       "      <td>5.550483e+09</td>\n",
       "      <td>5.550483e+09</td>\n",
       "      <td>5.784342e+09</td>\n",
       "      <td>6.131475e+09</td>\n",
       "      <td>7.553560e+09</td>\n",
       "      <td>7.072063e+09</td>\n",
       "    </tr>\n",
       "    <tr>\n",
       "      <th>3</th>\n",
       "      <td>0.000000e+00</td>\n",
       "      <td>0.000000e+00</td>\n",
       "      <td>0.000000e+00</td>\n",
       "      <td>1.857338e+09</td>\n",
       "      <td>1.897050e+09</td>\n",
       "      <td>2.097326e+09</td>\n",
       "    </tr>\n",
       "    <tr>\n",
       "      <th>4</th>\n",
       "      <td>3.889587e+08</td>\n",
       "      <td>3.758960e+08</td>\n",
       "      <td>3.278618e+08</td>\n",
       "      <td>3.300707e+08</td>\n",
       "      <td>3.467380e+08</td>\n",
       "      <td>4.820006e+08</td>\n",
       "    </tr>\n",
       "    <tr>\n",
       "      <th>5</th>\n",
       "      <td>4.933342e+10</td>\n",
       "      <td>4.662272e+10</td>\n",
       "      <td>4.280332e+10</td>\n",
       "      <td>4.180795e+10</td>\n",
       "      <td>4.060365e+10</td>\n",
       "      <td>3.394361e+10</td>\n",
       "    </tr>\n",
       "    <tr>\n",
       "      <th>6</th>\n",
       "      <td>7.867684e+10</td>\n",
       "      <td>8.430749e+10</td>\n",
       "      <td>1.039791e+11</td>\n",
       "      <td>7.909200e+10</td>\n",
       "      <td>8.841667e+10</td>\n",
       "      <td>1.109344e+11</td>\n",
       "    </tr>\n",
       "  </tbody>\n",
       "</table>\n",
       "</div>"
      ],
      "text/plain": [
       "           1981          1982          1983          1984          1985  \\\n",
       "0  0.000000e+00  0.000000e+00  0.000000e+00  0.000000e+00  0.000000e+00   \n",
       "1  3.478788e+09  0.000000e+00  0.000000e+00  0.000000e+00  0.000000e+00   \n",
       "2  5.550483e+09  5.550483e+09  5.784342e+09  6.131475e+09  7.553560e+09   \n",
       "3  0.000000e+00  0.000000e+00  0.000000e+00  1.857338e+09  1.897050e+09   \n",
       "4  3.889587e+08  3.758960e+08  3.278618e+08  3.300707e+08  3.467380e+08   \n",
       "5  4.933342e+10  4.662272e+10  4.280332e+10  4.180795e+10  4.060365e+10   \n",
       "6  7.867684e+10  8.430749e+10  1.039791e+11  7.909200e+10  8.841667e+10   \n",
       "\n",
       "           1986  \n",
       "0  4.054634e+08  \n",
       "1  0.000000e+00  \n",
       "2  7.072063e+09  \n",
       "3  2.097326e+09  \n",
       "4  4.820006e+08  \n",
       "5  3.394361e+10  \n",
       "6  1.109344e+11  "
      ]
     },
     "execution_count": 26,
     "metadata": {},
     "output_type": "execute_result"
    }
   ],
   "source": [
    "gdp_subset.fillna(0, inplace=True) # Fill all NaN items with zero\n",
    "gdp_subset"
   ]
  },
  {
   "cell_type": "markdown",
   "metadata": {},
   "source": [
    " "
   ]
  },
  {
   "cell_type": "markdown",
   "metadata": {},
   "source": [
    "## Insights from data visualization <a id=\"section3\"></a>\n",
    "\n",
    "<div class=\"alert alert-block alert-success\">\n",
    "<b>Example 2:</b> The 'condo.csv' dataset contain the prices of condos in Singapore for the past a few years. Use data visualization to explore the price differences between resale and new condos. \n",
    "</div>\n",
    "\n",
    "After reading the dataset from the \"csv\" file, we can retrieve the first a few rows or the last a few rows by the method <code>pandas.DataFrame.head()</code> or <code>pandas.DataFrame.tail()</code>. It is helpful for our further analysis by showing labels and typical values of all columns. "
   ]
  },
  {
   "cell_type": "code",
   "execution_count": 27,
   "metadata": {
    "scrolled": true
   },
   "outputs": [
    {
     "data": {
      "text/html": [
       "<div>\n",
       "<style scoped>\n",
       "    .dataframe tbody tr th:only-of-type {\n",
       "        vertical-align: middle;\n",
       "    }\n",
       "\n",
       "    .dataframe tbody tr th {\n",
       "        vertical-align: top;\n",
       "    }\n",
       "\n",
       "    .dataframe thead th {\n",
       "        text-align: right;\n",
       "    }\n",
       "</style>\n",
       "<table border=\"1\" class=\"dataframe\">\n",
       "  <thead>\n",
       "    <tr style=\"text-align: right;\">\n",
       "      <th></th>\n",
       "      <th>name</th>\n",
       "      <th>price</th>\n",
       "      <th>unit_price</th>\n",
       "      <th>district_code</th>\n",
       "      <th>...</th>\n",
       "      <th>area</th>\n",
       "      <th>level</th>\n",
       "      <th>remaining_years</th>\n",
       "      <th>date</th>\n",
       "    </tr>\n",
       "  </thead>\n",
       "  <tbody>\n",
       "    <tr>\n",
       "      <th>0</th>\n",
       "      <td>SEASCAPE</td>\n",
       "      <td>4388000</td>\n",
       "      <td>2028</td>\n",
       "      <td>4</td>\n",
       "      <td>...</td>\n",
       "      <td>2164</td>\n",
       "      <td>06 to 10</td>\n",
       "      <td>87.0</td>\n",
       "      <td>Nov-19</td>\n",
       "    </tr>\n",
       "    <tr>\n",
       "      <th>1</th>\n",
       "      <td>COMMONWEALTH TOWERS</td>\n",
       "      <td>1300000</td>\n",
       "      <td>1887</td>\n",
       "      <td>3</td>\n",
       "      <td>...</td>\n",
       "      <td>689</td>\n",
       "      <td>16 to 20</td>\n",
       "      <td>93.0</td>\n",
       "      <td>Nov-19</td>\n",
       "    </tr>\n",
       "    <tr>\n",
       "      <th>2</th>\n",
       "      <td>THE TRILINQ</td>\n",
       "      <td>1755000</td>\n",
       "      <td>1304</td>\n",
       "      <td>5</td>\n",
       "      <td>...</td>\n",
       "      <td>1346</td>\n",
       "      <td>06 to 10</td>\n",
       "      <td>92.0</td>\n",
       "      <td>Nov-19</td>\n",
       "    </tr>\n",
       "    <tr>\n",
       "      <th>3</th>\n",
       "      <td>THE CREST</td>\n",
       "      <td>2085000</td>\n",
       "      <td>2201</td>\n",
       "      <td>3</td>\n",
       "      <td>...</td>\n",
       "      <td>947</td>\n",
       "      <td>01 to 05</td>\n",
       "      <td>92.0</td>\n",
       "      <td>Nov-19</td>\n",
       "    </tr>\n",
       "    <tr>\n",
       "      <th>4</th>\n",
       "      <td>THE ANCHORAGE</td>\n",
       "      <td>1848888</td>\n",
       "      <td>1468</td>\n",
       "      <td>3</td>\n",
       "      <td>...</td>\n",
       "      <td>1259</td>\n",
       "      <td>01 to 05</td>\n",
       "      <td>999.0</td>\n",
       "      <td>Nov-19</td>\n",
       "    </tr>\n",
       "    <tr>\n",
       "      <th>5</th>\n",
       "      <td>MOUNT FABER LODGE</td>\n",
       "      <td>4400000</td>\n",
       "      <td>1188</td>\n",
       "      <td>4</td>\n",
       "      <td>...</td>\n",
       "      <td>3703</td>\n",
       "      <td>06 to 10</td>\n",
       "      <td>999.0</td>\n",
       "      <td>Oct-19</td>\n",
       "    </tr>\n",
       "  </tbody>\n",
       "</table>\n",
       "<p>6 rows × 10 columns</p>\n",
       "</div>"
      ],
      "text/plain": [
       "                  name    price  unit_price  district_code  ...  area  \\\n",
       "0             SEASCAPE  4388000        2028              4  ...  2164   \n",
       "1  COMMONWEALTH TOWERS  1300000        1887              3  ...   689   \n",
       "2          THE TRILINQ  1755000        1304              5  ...  1346   \n",
       "3            THE CREST  2085000        2201              3  ...   947   \n",
       "4        THE ANCHORAGE  1848888        1468              3  ...  1259   \n",
       "5    MOUNT FABER LODGE  4400000        1188              4  ...  3703   \n",
       "\n",
       "      level  remaining_years    date  \n",
       "0  06 to 10             87.0  Nov-19  \n",
       "1  16 to 20             93.0  Nov-19  \n",
       "2  06 to 10             92.0  Nov-19  \n",
       "3  01 to 05             92.0  Nov-19  \n",
       "4  01 to 05            999.0  Nov-19  \n",
       "5  06 to 10            999.0  Oct-19  \n",
       "\n",
       "[6 rows x 10 columns]"
      ]
     },
     "execution_count": 27,
     "metadata": {},
     "output_type": "execute_result"
    }
   ],
   "source": [
    "data_condo = pd.read_csv('condo.csv')\n",
    "data_condo.head(6)"
   ]
  },
  {
   "cell_type": "code",
   "execution_count": 28,
   "metadata": {
    "scrolled": false
   },
   "outputs": [
    {
     "data": {
      "text/html": [
       "<div>\n",
       "<style scoped>\n",
       "    .dataframe tbody tr th:only-of-type {\n",
       "        vertical-align: middle;\n",
       "    }\n",
       "\n",
       "    .dataframe tbody tr th {\n",
       "        vertical-align: top;\n",
       "    }\n",
       "\n",
       "    .dataframe thead th {\n",
       "        text-align: right;\n",
       "    }\n",
       "</style>\n",
       "<table border=\"1\" class=\"dataframe\">\n",
       "  <thead>\n",
       "    <tr style=\"text-align: right;\">\n",
       "      <th></th>\n",
       "      <th>name</th>\n",
       "      <th>price</th>\n",
       "      <th>unit_price</th>\n",
       "      <th>district_code</th>\n",
       "      <th>...</th>\n",
       "      <th>area</th>\n",
       "      <th>level</th>\n",
       "      <th>remaining_years</th>\n",
       "      <th>date</th>\n",
       "    </tr>\n",
       "  </thead>\n",
       "  <tbody>\n",
       "    <tr>\n",
       "      <th>32163</th>\n",
       "      <td>SKIES MILTONIA</td>\n",
       "      <td>1268000</td>\n",
       "      <td>1178</td>\n",
       "      <td>27</td>\n",
       "      <td>...</td>\n",
       "      <td>1076</td>\n",
       "      <td>11 to 15</td>\n",
       "      <td>95.0</td>\n",
       "      <td>Nov-16</td>\n",
       "    </tr>\n",
       "    <tr>\n",
       "      <th>32164</th>\n",
       "      <td>SYMPHONY SUITES</td>\n",
       "      <td>824000</td>\n",
       "      <td>1034</td>\n",
       "      <td>27</td>\n",
       "      <td>...</td>\n",
       "      <td>797</td>\n",
       "      <td>06 to 10</td>\n",
       "      <td>97.0</td>\n",
       "      <td>Nov-16</td>\n",
       "    </tr>\n",
       "    <tr>\n",
       "      <th>32165</th>\n",
       "      <td>SELETARIS</td>\n",
       "      <td>1250000</td>\n",
       "      <td>754</td>\n",
       "      <td>27</td>\n",
       "      <td>...</td>\n",
       "      <td>1658</td>\n",
       "      <td>01 to 05</td>\n",
       "      <td>999.0</td>\n",
       "      <td>Nov-16</td>\n",
       "    </tr>\n",
       "    <tr>\n",
       "      <th>32166</th>\n",
       "      <td>RIVERBANK @ FERNVALE</td>\n",
       "      <td>1082000</td>\n",
       "      <td>1026</td>\n",
       "      <td>28</td>\n",
       "      <td>...</td>\n",
       "      <td>1055</td>\n",
       "      <td>16 to 20</td>\n",
       "      <td>96.0</td>\n",
       "      <td>Nov-16</td>\n",
       "    </tr>\n",
       "    <tr>\n",
       "      <th>32167</th>\n",
       "      <td>THE ESTUARY</td>\n",
       "      <td>610000</td>\n",
       "      <td>1012</td>\n",
       "      <td>27</td>\n",
       "      <td>...</td>\n",
       "      <td>603</td>\n",
       "      <td>01 to 05</td>\n",
       "      <td>91.0</td>\n",
       "      <td>Nov-16</td>\n",
       "    </tr>\n",
       "  </tbody>\n",
       "</table>\n",
       "<p>5 rows × 10 columns</p>\n",
       "</div>"
      ],
      "text/plain": [
       "                       name    price  unit_price  district_code  ...  area  \\\n",
       "32163        SKIES MILTONIA  1268000        1178             27  ...  1076   \n",
       "32164       SYMPHONY SUITES   824000        1034             27  ...   797   \n",
       "32165             SELETARIS  1250000         754             27  ...  1658   \n",
       "32166  RIVERBANK @ FERNVALE  1082000        1026             28  ...  1055   \n",
       "32167           THE ESTUARY   610000        1012             27  ...   603   \n",
       "\n",
       "          level  remaining_years    date  \n",
       "32163  11 to 15             95.0  Nov-16  \n",
       "32164  06 to 10             97.0  Nov-16  \n",
       "32165  01 to 05            999.0  Nov-16  \n",
       "32166  16 to 20             96.0  Nov-16  \n",
       "32167  01 to 05             91.0  Nov-16  \n",
       "\n",
       "[5 rows x 10 columns]"
      ]
     },
     "execution_count": 28,
     "metadata": {},
     "output_type": "execute_result"
    }
   ],
   "source": [
    "data_condo.tail()"
   ]
  },
  {
   "cell_type": "markdown",
   "metadata": {},
   "source": [
    "Another piece of important information is the number of observations and the number of variables, which can be obtained by the attribute <code>shape</code> of the <code>pandas.DataFrame</code> object."
   ]
  },
  {
   "cell_type": "code",
   "execution_count": 29,
   "metadata": {
    "scrolled": true
   },
   "outputs": [
    {
     "name": "stdout",
     "output_type": "stream",
     "text": [
      "(32168, 10)\n"
     ]
    }
   ],
   "source": [
    "print(data_condo.shape)"
   ]
  },
  {
   "cell_type": "markdown",
   "metadata": {},
   "source": [
    "Then we can use the method <code>unique()</code> of the <code>pandas.Series</code> data type to retrieve all possible values of this column. "
   ]
  },
  {
   "cell_type": "code",
   "execution_count": 30,
   "metadata": {
    "scrolled": true
   },
   "outputs": [
    {
     "data": {
      "text/plain": [
       "array(['Resale', 'New Sale'], dtype=object)"
      ]
     },
     "execution_count": 30,
     "metadata": {},
     "output_type": "execute_result"
    }
   ],
   "source": [
    "data_condo['type'].unique()"
   ]
  },
  {
   "cell_type": "code",
   "execution_count": 31,
   "metadata": {
    "scrolled": false
   },
   "outputs": [
    {
     "data": {
      "text/plain": [
       "array([ 4,  3,  5,  1,  2,  9, 10,  8, 15, 11, 13, 12, 14, 18, 16, 20, 19,\n",
       "       17, 21, 25, 23, 26, 22, 27, 28])"
      ]
     },
     "execution_count": 31,
     "metadata": {},
     "output_type": "execute_result"
    }
   ],
   "source": [
    "data_condo['district_code'].unique()"
   ]
  },
  {
   "cell_type": "markdown",
   "metadata": {},
   "source": [
    "It can be seen that for the column <code>type</code>, we have two unique values: \"Resale\", and \"New Sale\". Based on these two values, we can split the dataset into two parts, and plot the bar graph."
   ]
  },
  {
   "cell_type": "code",
   "execution_count": 32,
   "metadata": {
    "scrolled": false
   },
   "outputs": [
    {
     "data": {
      "image/png": "[encoded data removed]",
      "text/plain": [
       "<Figure size 432x288 with 1 Axes>"
      ]
     },
     "metadata": {
      "needs_background": "light"
     },
     "output_type": "display_data"
    }
   ],
   "source": [
    "data_resale = data_condo.loc[data_condo['type']=='Resale']  # Resale condos \n",
    "data_new = data_condo.loc[data_condo['type']=='New Sale']   # New sale condos\n",
    "\n",
    "plt.bar(['Resale', 'New Sale'],                             # x-data \n",
    "        [data_resale['price'].mean(), \n",
    "         data_new['price'].mean()],                         # y-data \n",
    "        width=0.5)                                          # Width of bars\n",
    "\n",
    "plt.xlabel('Types of sales')\n",
    "plt.ylabel('Average prices (S$)')\n",
    "\n",
    "plt.show()"
   ]
  },
  {
   "cell_type": "markdown",
   "metadata": {},
   "source": [
    "Similarly, we can use the histogram below to depict the differences between prices. "
   ]
  },
  {
   "cell_type": "code",
   "execution_count": 33,
   "metadata": {
    "scrolled": true
   },
   "outputs": [
    {
     "data": {
      "image/png": "[encoded data removed]",
      "text/plain": [
       "<Figure size 432x288 with 1 Axes>"
      ]
     },
     "metadata": {
      "needs_background": "light"
     },
     "output_type": "display_data"
    }
   ],
   "source": [
    "bins = np.arange(0.5e6, 5e6, 0.1e6)             # A sequence of number as histogram bins\n",
    "\n",
    "plt.hist(data_resale['price'], bins=bins,       \n",
    "         alpha=0.5, color='b', label='Resale')\n",
    "plt.hist(data_new['price'], bins=bins,\n",
    "         alpha=0.5, color='r', label='New sale')\n",
    "\n",
    "plt.xlabel('Prices (S$)')\n",
    "plt.ylabel('Frequency')\n",
    "plt.legend()\n",
    "\n",
    "plt.show()"
   ]
  },
  {
   "cell_type": "markdown",
   "metadata": {},
   "source": [
    "How do we interpret the results shown by the data visualization above? Can you show the differences in prices by other charts?"
   ]
  },
  {
   "cell_type": "code",
   "execution_count": null,
   "metadata": {
    "scrolled": false
   },
   "outputs": [],
   "source": []
  },
  {
   "cell_type": "markdown",
   "metadata": {},
   "source": [
    "<div class=\"alert alert-block alert-success\">\n",
    "<b>Example 3:</b> Consider condos that are \n",
    "  <li>In district 5 (Buona Vista, Dover, Pasir Panjang, West Coast)</li>\n",
    "  <li>With areas smaller than 2000 square feet</li>\n",
    "  <li>With the remaining years to be less than 100 years</li>\n",
    "Use a bubble plot to show the following information:\n",
    "  <li>The areas (in square feet)</li>\n",
    "  <li>The prices (in S$)</li>\n",
    "  <li>The type of condos (resale and new sale condos)</li>\n",
    "  <li>The levels of apartments</li>\n",
    "</div>\n",
    "\n",
    "The following code select a subset of the overall dataset that satisfies the given conditions. "
   ]
  },
  {
   "cell_type": "code",
   "execution_count": 34,
   "metadata": {},
   "outputs": [],
   "source": [
    "subset = data_condo.loc[(data_condo['district_code']==5) & \n",
    "                        (data_condo['remaining_years']<99) & \n",
    "                        (data_condo['area']<2000)]"
   ]
  },
  {
   "cell_type": "markdown",
   "metadata": {},
   "source": [
    "As the previous example, we can split the dataset into two parts according to the \"resale\" and \"new sale\" types. "
   ]
  },
  {
   "cell_type": "code",
   "execution_count": 35,
   "metadata": {
    "scrolled": false
   },
   "outputs": [],
   "source": [
    "subset_resale = subset.loc[subset['type']=='Resale']\n",
    "subset_new = subset.loc[subset['type']=='New Sale']"
   ]
  },
  {
   "cell_type": "markdown",
   "metadata": {},
   "source": [
    "Please note that the level information in the dataset is in <code>str</code> type instead of numerical values. We can use the following code to convert the strings in the data table into <code>int</code> type. "
   ]
  },
  {
   "cell_type": "code",
   "execution_count": 36,
   "metadata": {},
   "outputs": [],
   "source": [
    "levels_resale = subset_resale['level'].str[-2:].astype(int)\n",
    "levels_new = subset_new['level'].str[-2:].astype(int)"
   ]
  },
  {
   "cell_type": "markdown",
   "metadata": {},
   "source": [
    "In the code above, the slicing expression <code>pandas.Series.str[:-2]</code> returns a new series with each element to be the last two characters of strings in the original series. Then all strings in the new series are converted into <code>int</code> type by the method <code>pandas.Series.astype()</code>. As a result, variables <code>levels_resale</code> and <code>levels_new</code> are two series with all elements to be numeric values of condo levels (upper bound). "
   ]
  },
  {
   "cell_type": "code",
   "execution_count": 37,
   "metadata": {
    "scrolled": false
   },
   "outputs": [
    {
     "data": {
      "text/plain": [
       "2     10\n",
       "6     25\n",
       "7     10\n",
       "10     5\n",
       "14     5\n",
       "Name: level, dtype: int64"
      ]
     },
     "execution_count": 37,
     "metadata": {},
     "output_type": "execute_result"
    }
   ],
   "source": [
    "levels_resale[:5]"
   ]
  },
  {
   "cell_type": "markdown",
   "metadata": {},
   "source": [
    "With the numerical values of levels, we create the following bubble plot."
   ]
  },
  {
   "cell_type": "code",
   "execution_count": 38,
   "metadata": {},
   "outputs": [
    {
     "data": {
      "image/png": "[encoded data removed]",
      "text/plain": [
       "<Figure size 432x288 with 1 Axes>"
      ]
     },
     "metadata": {
      "needs_background": "light"
     },
     "output_type": "display_data"
    }
   ],
   "source": [
    "plt.scatter(subset_resale['area'], subset_resale['price'], \n",
    "            s=3*levels_resale, c='b', alpha=0.2,\n",
    "            label='Resale')\n",
    "\n",
    "plt.scatter(subset_new['area'], subset_new['price'], \n",
    "            s=3*levels_new, c='r', alpha=0.2,\n",
    "            label='New sale')\n",
    "\n",
    "plt.xlabel('Area (sqft)')\n",
    "plt.ylabel('Prices (S$)')\n",
    "plt.legend()\n",
    "plt.grid()\n",
    "\n",
    "plt.show()"
   ]
  },
  {
   "cell_type": "markdown",
   "metadata": {},
   "source": [
    "A short summary of the Python code for constructing the bubble plots above:\n",
    "1. A bubble plot uses x/y coordinates (the first two arguments <code>x</code> and <code>y</code>), colors (argument <code>c</code>), and bubble size (argument <code>s</code>) to show values of variables. We can even use different marker types (argument <code>marker</code>) to express another categorical variable. \n",
    "2. If the bubbles are too small or too big, we can adjust their sizes by scaling the corresponding values. Such as in this case, the original values of <code>levels_resale</code> and <code>levels_new</code> are too small, so we multiply the values by 3 to enlarge the bubbles. \n",
    "3. In cases where many bubbles are overlapping, we specify the transparency of bubbles via the argument <code>alpha</code>.\n",
    "4. By using the function <code>legend()</code> from the <code>matplotlib.pyplot</code> module, we can create a legend that explains the meanings of different bubbles. \n",
    "5. The function <code>grid()</code> adds grid to the graph.\n",
    "   \n",
    "Now what can we tell from the graph above?"
   ]
  },
  {
   "cell_type": "markdown",
   "metadata": {},
   "source": [
    "  "
   ]
  },
  {
   "cell_type": "markdown",
   "metadata": {},
   "source": [
    "## Introduction to Inferential Statistics <a id=\"section4\"></a>\n",
    "\n",
    "### Review of Probability Theory <a id=\"subsection4.1\"></a>\n",
    "\n",
    "#### Properties of expected values and variances\n",
    "Let $X$ be an arbitrary random variable, and $a$ and $c$ are two constants, then we have\n",
    "- $\\mathbb{E}(c) = c$;\n",
    "- $\\mathbb{E}(aX+c) = a\\mathbb{E}(X) + c$.\n",
    "\n",
    "If $\\{a_1, a_2, ..., a_n\\}$ is a sequence of constants, and $\\{X_1, X_2, ..., X_n\\}$ is a sequence of random variables, then we have\n",
    "- $\\mathbb{E}\\left(\\sum\\limits_{i=1}^na_iX_i\\right) = \\sum\\limits_{i=1}^na_i\\mathbb{E}(X_i)$\n",
    "\n",
    "As a special case that each $a_i=1$, then the equation above can be written as $\\mathbb{E}\\left(\\sum_{i=1}^nX_i\\right)=\\sum_{i=1}^n\\mathbb{E}(X_i)$.\n",
    "\n",
    "Let $X$ and $Y$ be two random variables, and $a$, $b$, and $c$ are three constants, then we have\n",
    "- $\\text{Var}(c) = 0$;\n",
    "- $\\text{Var}(aX+c) = a^2\\text{Var}(X)$;\n",
    "- $\\text{Var}(aX+bY+c) = a^2\\text{Var}(X) + b^2\\text{Var}(Y) + 2ab\\text{Cov}(X, Y)$.\n",
    "\n",
    "In a special case that $X$ and $Y$ are uncorrelated, the covariance between $X$ and $Y$ is zero, so the last equation can be written as $\\text{Var}(aX+bY+c) = a^2\\text{Var}(X) + b^2\\text{Var}(Y)$. Such a result can be extend to the following case\n",
    "- $\\text{Var}\\left(\\sum\\limits_{i=1}^na_iX_i\\right) = \\sum\\limits_{i=1}^na_i^2\\text{Var}(X_i)$,\n",
    "\n",
    "where $\\{a_1, a_2, ..., a_n\\}$ is a sequence of constants, and $\\{X_1, X_2, ..., X_n\\}$ is a sequence of **pairwise uncorrelated** random variables. \n",
    "\n",
    "#### Discrete random variables and their distributions\n",
    "A random variable $X$ is defined to be **discrete** if its possible outcomes are finite or countable. A few examples are given below.\n",
    "1. The result of rolling a dice (discrete uniform distribution)\n",
    "2. The preference of one customer for Coke or Pepsi (Bernoulli distribution)\n",
    "3. Among 10 customers, the number of people who prefer Coke over Pepsi (Binomial distribution) \n",
    "4. The number of patients arriving in an emergency room within a fixed time interval (Poisson distribution)\n",
    "\n",
    "<div class=\"alert alert-block alert-danger\">\n",
    "    <b>Notes: </b> For a discrete random variable $X$ with $k$ possible outcomes $x_j$, the <b>probability mass function (PMF)</b> is given by:\n",
    "    \\begin{align}\n",
    "    P(X=x_j) = p_j, \\text{   for each }j=1, 2, ..., k,\n",
    "    \\end{align}\n",
    "where $p_j$ is the probability of the outcome $x_j$, and all $p_i$ must satisfy \n",
    "    \\begin{cases}\n",
    "    0\\leq p_i \\leq 1 \\\\\n",
    "    \\sum_{j=1}^kp_j = 1\n",
    "    \\end{cases}\n",
    "</div>\n",
    "\n",
    "<div class=\"alert alert-block alert-success\">\n",
    "<b>Example 4:</b> Suppose that in Singapore, $65\\%$ of customers prefer Coke, while the remaining $35\\%$ prefer Pepsi. Now we randomly survey 10 customers, among which the number of customers who prefer Coke is denoted by a discrete random variable $X$. Plot the PMF of $X$. \n",
    "</div>"
   ]
  },
  {
   "cell_type": "code",
   "execution_count": 39,
   "metadata": {
    "scrolled": true
   },
   "outputs": [
    {
     "data": {
      "image/png": "[encoded data removed]",
      "text/plain": [
       "<Figure size 432x288 with 1 Axes>"
      ]
     },
     "metadata": {
      "needs_background": "light"
     },
     "output_type": "display_data"
    }
   ],
   "source": [
    "n = 10                                          # Number of customers \n",
    "p = 0.65                                        # Propability of choosing Coke\n",
    "x = np.arange(n+1)                              # All possible values of X\n",
    "pmf = binom.pmf(x, n, p)                        # The PMF of the random variable X\n",
    "\n",
    "plt.vlines(x, ymin=0, ymax=pmf, linewidth=2.5, \n",
    "           colors='b', alpha=0.6)               # Plot vertical lines\n",
    "\n",
    "plt.xlabel('X', fontsize=12)\n",
    "plt.ylabel('Proability', fontsize=12)\n",
    "plt.show()"
   ]
  },
  {
   "cell_type": "markdown",
   "metadata": {},
   "source": [
    "<div class=\"alert alert-block alert-danger\">\n",
    "    <b>Notes: </b> The <b>cumulative distribution function (CDF)</b> of a random variable $X$ is defined as \n",
    "    \\begin{align}\n",
    "    F(x) = P(X\\leq x).\n",
    "    \\end{align}\n",
    "</div>\n",
    "\n",
    "<div class=\"alert alert-block alert-success\">\n",
    "<b>Example 5:</b> Plot the CDF of the random variable $X$ described in <b>Example 4</b>. \n",
    "</div>"
   ]
  },
  {
   "cell_type": "code",
   "execution_count": 40,
   "metadata": {},
   "outputs": [
    {
     "data": {
      "image/png": "[encoded data removed]",
      "text/plain": [
       "<Figure size 432x288 with 1 Axes>"
      ]
     },
     "metadata": {
      "needs_background": "light"
     },
     "output_type": "display_data"
    }
   ],
   "source": [
    "n = 10                                  # Number of customers                          \n",
    "p = 0.65                                # Probability of choosing Coke\n",
    "step = 0.01\n",
    "x = np.arange(0, n+step, step)          # Continous values of X\n",
    "cdf = binom.cdf(x, n, p)                # The CDF of the random variable X\n",
    "\n",
    "plt.plot(x, cdf, linewidth=2.5, \n",
    "         c='b', alpha=0.6)              # Plot the curve for the CDF\n",
    "\n",
    "plt.xlabel('X', fontsize=12)\n",
    "plt.ylabel('Cumulative Proability', \n",
    "           fontsize=12)                 \n",
    "plt.show()"
   ]
  },
  {
   "cell_type": "markdown",
   "metadata": {},
   "source": [
    "#### Continuous random variables and their distributions\n",
    "A variable $X$ is a **continuous random variable** if it takes on any real value with *zero* probability. Random variables following uniform, normal (Gaussian) and exponential distributions are all continuous variables.  \n",
    "\n",
    "For continuous random variables, there is no PMF as the discrete random variables, because $P(X=x)=0$ for all values of $x$. The CDF for a continuous random variable has the same definition as the discrete case, which is $F(x)=P(X\\leq x)$. Based on the CDF, we have other definitions listed as follows.\n",
    "\n",
    "<div class=\"alert alert-block alert-danger\">\n",
    "    <b>Notes: </b> Let $F(x)$ be the CDF of a continuous random variable $X$, then\n",
    "    <li> The derivative $f(x) = \\frac{\\text{d} F(x)}{\\text{d}x}$ of the CDF $F(x)$ is called the <b>probability density function (PDF)</b> of $X$. This definition also implies that $F(x) = \\int_{-\\infty}^{x}f(t)dt$ \n",
    "    <li> The inverse of CDF $F(x)$, denoted by $F^{-1}(q)$, is called the <b>Percent Point Function (PPF)</b>, where $q$ is the given cumulative probability. This function is sometimes referred to as the <b>inverse distribution function</b> or the <b>quantile function</b>.\n",
    "</div>\n",
    "\n",
    "We are using a standard normal distribution as an example to illustrate the definition of CDF, PDF, and PPF. You are encouraged to play with the chart below to better understand the geometric interpretation of these functions."
   ]
  },
  {
   "cell_type": "code",
   "execution_count": 71,
   "metadata": {},
   "outputs": [
    {
     "data": {
      "application/vnd.jupyter.widget-view+json": {
       "model_id": "f472db3f507d41cfa436793e4298508c",
       "version_major": 2,
       "version_minor": 0
      },
      "text/plain": [
       "HBox(children=(FloatSlider(value=-1.0, continuous_update=False, description='Value of $X$: ', max=3.5, min=-3.…"
      ]
     },
     "metadata": {},
     "output_type": "display_data"
    },
    {
     "data": {
      "application/vnd.jupyter.widget-view+json": {
       "model_id": "3ee4f4f10ef1444f82fb6f0b89f870b3",
       "version_major": 2,
       "version_minor": 0
      },
      "text/plain": [
       "Output()"
      ]
     },
     "metadata": {},
     "output_type": "display_data"
    }
   ],
   "source": [
    "plot_normal()"
   ]
  },
  {
   "cell_type": "markdown",
   "metadata": {},
   "source": [
    "Another important property of the CDF is given below.\n",
    "\n",
    "<div class=\"alert alert-block alert-danger\">\n",
    "    <b>Notes: </b> For a random variable and given values $x_1 \\leq x_2$ ($x_1 < x_2$ for discrete variables), then the probability \n",
    "    \\begin{align}\n",
    "    P(x_1 \\leq X \\leq x_2) = P(X \\leq x_2) - P(X \\leq x_1) = F(x_2) - F(x_1).\n",
    "    \\end{align}\n",
    "</div>\n",
    "\n",
    "As a special case of continuous variables, if $x=x_1=x_2$, then we can prove that \n",
    "\\begin{align}\n",
    "P(X=x) = P(x\\leq X \\leq x) = F(x) - F(x) = 0.\n",
    "\\end{align}\n",
    "\n",
    "#### The <code>scipy.stats</code> module and distribution objects\n",
    "The [<code>scipy.stats</code>](https://docs.scipy.org/doc/scipy/reference/stats.html) module provides many Python objects for commonly used probability distributions, such as <code>binom</code> for binomial distributions and <code>norm</code> for normal distributions. The general syntax of calling these methods of distribution objects from the <code>scipy.stats</code> module is given as follows.\n",
    "\n",
    "<center><b><code>object.method(<font color='blue'><i>variable</i></font>, <font color='blue'><i>distr_param_1</i></font>, <font color='blue'><i>distr_param_2</i></font>, ... )</code></b></center>\n",
    "\n",
    "- <b><code>object</code></b> is the object of a specific type of distribution, such as <code>binom</code> for binomial and <code>norm</code> for normal distributions; \n",
    "- <b><code>method</code></b> specifies the distributional function, such as <code>pdf</code> for PDF, <code>pmf</code> for PMF, <code>cdf</code> for CDF, and <code>ppf</code> for PMF;\n",
    "- <b><code><font color='blue'><i>variable</i></font></code></b> is the variable of the distributional function <b><code>method</code></b>;\n",
    "- <b><code><font color='blue'><i>distr_param_1</i></font></code></b>, <b><code><font color='blue'><i>distr_param_2</i></font></code></b>, ... are the parameters specifying the shape of the distribution, such as the mean and the standard deviation specify the shape of a normal distribution. \n",
    "\n",
    "<div class=\"alert alert-block alert-success\">\n",
    "<b>Extra Example:</b> Suppose that in Singapore, $65\\%$ of customers prefer Coke, while the remaining $35\\%$ prefer Pepsi. Now we randomly survey 10 customers, what is the probability that the majority of them select Coke?\n",
    "</div>"
   ]
  },
  {
   "cell_type": "code",
   "execution_count": 42,
   "metadata": {},
   "outputs": [
    {
     "name": "stdout",
     "output_type": "stream",
     "text": [
      "0.751\n"
     ]
    }
   ],
   "source": [
    "p_coke = 1 - binom.cdf(5, n=10, p=0.65)\n",
    "print('{0:0.3f}'.format(p_coke))"
   ]
  },
  {
   "cell_type": "markdown",
   "metadata": {},
   "source": [
    "Please note that the first argument <b><code><font color='blue'><i>variable</i></font></code></b> can be an array or other compound data types, such as <code>x</code> in **Example 3** and **Example 4** is an array.\n",
    "\n",
    "<div class=\"alert alert-block alert-success\">\n",
    "<b>Extra Example:</b> Calculate the 99.5th percentile of a standard normal distribution.\n",
    "</div>"
   ]
  },
  {
   "cell_type": "code",
   "execution_count": 43,
   "metadata": {},
   "outputs": [
    {
     "name": "stdout",
     "output_type": "stream",
     "text": [
      "2.576\n"
     ]
    }
   ],
   "source": [
    "x = norm.ppf(0.995, loc=0, scale=1)\n",
    "print('{0:0.3f}'.format(x))"
   ]
  },
  {
   "cell_type": "markdown",
   "metadata": {},
   "source": [
    "The method <code>norm.ppf()</code> takes <code>loc=0</code> and <code>scale=1</code> as the default argument values, so we can leave these two argument unspecified for standard normal distribution. The code above can be thus simplified as follows."
   ]
  },
  {
   "cell_type": "code",
   "execution_count": 44,
   "metadata": {},
   "outputs": [
    {
     "name": "stdout",
     "output_type": "stream",
     "text": [
      "2.576\n"
     ]
    }
   ],
   "source": [
    "x = norm.ppf(0.995)\n",
    "print('{0:0.3f}'.format(x))"
   ]
  },
  {
   "cell_type": "markdown",
   "metadata": {},
   "source": [
    "### Samples and populations <a id=\"subsection4.2\"></a>\n",
    "\n",
    "<div class=\"alert alert-block alert-success\">\n",
    "<b>Example 6:</b> The lifespans of all bulbs in a batch are recorded in a file called \"bulb.csv\". What is the mean lifespan of bulbs in this batch?\n",
    "</div>"
   ]
  },
  {
   "cell_type": "code",
   "execution_count": 45,
   "metadata": {
    "scrolled": true
   },
   "outputs": [
    {
     "data": {
      "text/html": [
       "<div>\n",
       "<style scoped>\n",
       "    .dataframe tbody tr th:only-of-type {\n",
       "        vertical-align: middle;\n",
       "    }\n",
       "\n",
       "    .dataframe tbody tr th {\n",
       "        vertical-align: top;\n",
       "    }\n",
       "\n",
       "    .dataframe thead th {\n",
       "        text-align: right;\n",
       "    }\n",
       "</style>\n",
       "<table border=\"1\" class=\"dataframe\">\n",
       "  <thead>\n",
       "    <tr style=\"text-align: right;\">\n",
       "      <th></th>\n",
       "      <th>Lifespan</th>\n",
       "    </tr>\n",
       "  </thead>\n",
       "  <tbody>\n",
       "    <tr>\n",
       "      <th>0</th>\n",
       "      <td>1347.337298</td>\n",
       "    </tr>\n",
       "    <tr>\n",
       "      <th>1</th>\n",
       "      <td>1340.418597</td>\n",
       "    </tr>\n",
       "    <tr>\n",
       "      <th>2</th>\n",
       "      <td>1382.394294</td>\n",
       "    </tr>\n",
       "    <tr>\n",
       "      <th>3</th>\n",
       "      <td>1309.760188</td>\n",
       "    </tr>\n",
       "    <tr>\n",
       "      <th>4</th>\n",
       "      <td>1341.330256</td>\n",
       "    </tr>\n",
       "  </tbody>\n",
       "</table>\n",
       "</div>"
      ],
      "text/plain": [
       "      Lifespan\n",
       "0  1347.337298\n",
       "1  1340.418597\n",
       "2  1382.394294\n",
       "3  1309.760188\n",
       "4  1341.330256"
      ]
     },
     "execution_count": 45,
     "metadata": {},
     "output_type": "execute_result"
    }
   ],
   "source": [
    "data_bulb = pd.read_csv('bulb.csv')\n",
    "data_bulb.head()"
   ]
  },
  {
   "cell_type": "code",
   "execution_count": 46,
   "metadata": {},
   "outputs": [
    {
     "name": "stdout",
     "output_type": "stream",
     "text": [
      "(200, 1)\n"
     ]
    }
   ],
   "source": [
    "print(data_bulb.shape)"
   ]
  },
  {
   "cell_type": "markdown",
   "metadata": {},
   "source": [
    "It is easy to find the mean lifespan by the following code."
   ]
  },
  {
   "cell_type": "code",
   "execution_count": 47,
   "metadata": {},
   "outputs": [
    {
     "name": "stdout",
     "output_type": "stream",
     "text": [
      "Population mean: 1351.25\n"
     ]
    }
   ],
   "source": [
    "mean_value = data_bulb['Lifespan'].mean()\n",
    "print('Population mean: {0:0.2f}'.format(mean_value))"
   ]
  },
  {
   "cell_type": "markdown",
   "metadata": {},
   "source": [
    "In this example, the whole batch is a **population** that we are interested in, and it is easy to obtain the population mean and other information using simple Python functions. However, in real applications, it is impractical to burn out all bulbs to find their lifespans. Instead, it is more economical to estimate the mean value via testing a **sample** that contains a small fraction of the overall population. The terms **population** and **sample** in statistics are thus generalized as follows.\n",
    "\n",
    "<div class=\"alert alert-block alert-danger\">\n",
    "    <b>Notes:</b>  \n",
    "        <li> <b>Population</b>: The collection of all individuals or items under consideration in a statistical study.\n",
    "        <li> <b>Sample</b>: A part of the population from which information is obtained.\n",
    "</div>\n",
    "\n",
    "We provide two other examples below for your reference.\n",
    "1. A study on the percentage of US voters who support Trump in the 2020 election \n",
    "    - **Population**: all US voters\n",
    "    - **Sample**: a poll of 1000 voters\n",
    "2. A study on the average household income of all Singaporeans \n",
    "    - **Population**: all households in Singapore\n",
    "    - **Sample**: a survey of 100 households in Singapore\n",
    "    \n",
    "<img src=\"https://s3-eu-west-1.amazonaws.com/blog.omniconvert.com-media/blog/wp-content/uploads/2019/10/21150245/sample-size-definition.png\" width=450px>\n",
    "\n",
    "Although it is less costly and more practical to obtain the sample data, we cannot expect the sample yield perfectly accurate information about the population. For instance, we consider a sample with $n=25$ randomly selected bulbs from the batch, and the following code calculates the sample mean."
   ]
  },
  {
   "cell_type": "code",
   "execution_count": 48,
   "metadata": {
    "scrolled": true
   },
   "outputs": [
    {
     "name": "stdout",
     "output_type": "stream",
     "text": [
      "Sample mean: 1346.72\n"
     ]
    }
   ],
   "source": [
    "n = 25\n",
    "sample = data_bulb.sample(n, replace=True)      \n",
    "print('Sample mean: {0:0.2f}'.format(sample['Lifespan'].mean()))"
   ]
  },
  {
   "cell_type": "markdown",
   "metadata": {},
   "source": [
    "In this example, we assumes simple random sampling with replacement, as indicated by the input argument <code>replace=True</code>. The replacement assumption is used so that each sampled observation is independent, thus simplifying the calculation. "
   ]
  },
  {
   "cell_type": "markdown",
   "metadata": {},
   "source": [
    "### Sampling distribution <a id=\"subsection4.3\"></a>\n",
    "\n",
    "This subsection focuses on the goodness of using the sample mean to estimate the population mean. \n",
    "\n",
    "<div class=\"alert alert-block alert-success\">\n",
    "<b>Example 7:</b> Based on the dataset \"bulb.csv\", estimate the population mean by a randomly selected sample with $n=25$ observations. Repeat the sampling experiment 500 times to find the mean and standard deviation of the sample means. \n",
    "</div>\n",
    "\n",
    "In this example, we are using $\\mu$ to denote the population mean, and $\\sigma$ to denote the population standard deviation. Because random sampling is used in the experiment, the sample mean, denoted by $\\bar{x}=\\frac{1}{n}\\sum\\limits_{i=1}^nx_i$, in each run is different. We are interested in the mean and standard deviation of $\\bar{x}$, which are calculated in the following code."
   ]
  },
  {
   "cell_type": "code",
   "execution_count": 91,
   "metadata": {
    "scrolled": false
   },
   "outputs": [
    {
     "data": {
      "image/png": "[encoded data removed]",
      "text/plain": [
       "<Figure size 432x288 with 1 Axes>"
      ]
     },
     "metadata": {
      "needs_background": "light"
     },
     "output_type": "display_data"
    }
   ],
   "source": [
    "plot_sdistr(data_bulb['Lifespan'], n=25, repeats=500)"
   ]
  },
  {
   "cell_type": "markdown",
   "metadata": {},
   "source": [
    "It can be seen that the mean of the sample mean $\\bar{x}$ is very close to the population mean $\\mu$. The standard deviation of $\\bar{x}$, often referred to as the **standard error (SE)** of $\\bar{x}$, is roughly one fifth of the population standard deviation $\\sigma$. We are going to explain the results via following mathematical derivation.\n",
    "\n",
    "As the number of repeated experiment goes to infinity, we can derive the expectation of $\\mathbb{E}(\\bar{x})$ as\n",
    "\\begin{align}\n",
    "\\mathbb{E}(\\bar{x}) = \\mathbb{E}\\left(\\frac{1}{n}\\sum\\limits_{i=1}^nx_i\\right) = \\frac{1}{n}\\sum\\limits_{i=1}^n\\mathbb{E}(x_i) = \\frac{1}{n}\\sum\\limits_{i=1}^n\\mu = \\mu.\n",
    "\\end{align}\n",
    "Note that $\\mathbb{E}[\\bar{x}]$ is the same as the actual population mean $\\mu$, the estimator $\\bar{x}$ is thus called **unbiased**.\n",
    "\n",
    "The variance of $\\bar{x}$ can be written as\n",
    "\\begin{align}\n",
    "\\text{Var}(\\bar{x}) = \\text{Var}\\left(\\frac{1}{n}\\sum\\limits_{i=1}^nx_i\\right) = \\frac{1}{n^2}\\sum\\limits_{i=1}^n\\text{Var}(x_i) = \\frac{1}{n^2}n\\sigma^2 = \\frac{\\sigma^2}{n}, \n",
    "\\end{align}\n",
    "so the standard error $\\text{SE}(\\bar{x})=\\sqrt{\\text{Var}(\\bar{x})}=\\sqrt{\\sigma^2/n}=\\frac{\\sigma}{\\sqrt{n}}$. In the example above, we have the sample size to be $n=25$, so $\\text{SE}(\\bar{x})$ is one fifth of the population standard deviation $\\sigma$. \n",
    "\n",
    "### Central Limit Theorem <a id=\"subsection4.4\"></a>\n",
    "\n",
    "<div class=\"alert alert-block alert-danger\">\n",
    "<b>Notes: The Central Limit Theorem (CLT): </b>  \n",
    "    For a relatively large sample size, the random variable $\\bar{x}=\\sum\\limits_{i=1}^nX_i$ is approximately normally distributed, regardless of the distribution of the population. The approximation becomes better with increased sample size. \n",
    "</div>\n",
    "\n",
    "How to use the `plot_sdistr()` function to verify that 'the approximation becomes better with increased sample size'? "
   ]
  }
 ],
 "metadata": {
  "kernelspec": {
   "display_name": "Python 3",
   "language": "python",
   "name": "python3"
  },
  "language_info": {
   "codemirror_mode": {
    "name": "ipython",
    "version": 3
   },
   "file_extension": ".py",
   "mimetype": "text/x-python",
   "name": "python",
   "nbconvert_exporter": "python",
   "pygments_lexer": "ipython3",
   "version": "3.8.5"
  }
 },
 "nbformat": 4,
 "nbformat_minor": 2
}
